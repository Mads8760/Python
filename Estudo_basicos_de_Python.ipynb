{
  "nbformat": 4,
  "nbformat_minor": 0,
  "metadata": {
    "colab": {
      "provenance": [],
      "authorship_tag": "ABX9TyNom6PvUtlrTjotBvOj3Tw0",
      "include_colab_link": true
    },
    "kernelspec": {
      "name": "python3",
      "display_name": "Python 3"
    },
    "language_info": {
      "name": "python"
    }
  },
  "cells": [
    {
      "cell_type": "markdown",
      "metadata": {
        "id": "view-in-github",
        "colab_type": "text"
      },
      "source": [
        "<a href=\"https://colab.research.google.com/github/Mads8760/Python/blob/main/Estudo_basicos_de_Python.ipynb\" target=\"_parent\"><img src=\"https://colab.research.google.com/assets/colab-badge.svg\" alt=\"Open In Colab\"/></a>"
      ]
    },
    {
      "cell_type": "markdown",
      "source": [],
      "metadata": {
        "id": "HEjqcJgVq-oo"
      }
    },
    {
      "cell_type": "markdown",
      "source": [
        "Tres formas de imprimir strings e variáveis\n"
      ],
      "metadata": {
        "id": "-PC49UAYroHo"
      }
    },
    {
      "cell_type": "code",
      "execution_count": null,
      "metadata": {
        "colab": {
          "base_uri": "https://localhost:8080/"
        },
        "id": "2o8A78p_o884",
        "outputId": "ab51b228-76e8-4740-81c3-0402d8c45a2e"
      },
      "outputs": [
        {
          "output_type": "stream",
          "name": "stdout",
          "text": [
            "Digite sua linguagem de programação preferida: python\n",
            "\n",
            " Hello World python\n"
          ]
        }
      ],
      "source": [
        "linguagem = input(\"Digite sua linguagem de programação preferida: \")\n",
        "print(\"\\n Hello World %s\" % linguagem) #concatenando com linguagem C\n"
      ]
    },
    {
      "cell_type": "code",
      "source": [
        "linguagem = input(\"Digite sua linguagem de programação preferida: \")\n",
        "print(\"\\n Hello World {}, a melhor!\".format(linguagem))"
      ],
      "metadata": {
        "colab": {
          "base_uri": "https://localhost:8080/"
        },
        "id": "Y3VaCyWqqsHC",
        "outputId": "3fd692f9-d953-47a6-82cb-b0908769440d"
      },
      "execution_count": null,
      "outputs": [
        {
          "output_type": "stream",
          "name": "stdout",
          "text": [
            "Digite sua linguagem de programação preferida: python\n",
            "\n",
            " Hello World python, a melhor!\n"
          ]
        }
      ]
    },
    {
      "cell_type": "code",
      "source": [
        "linguagem = input(\"Digite sua linguagem de programação preferida: \")\n",
        "print(f\"\\n Hello World {linguagem}, a melhor de todas\") #método recomendado"
      ],
      "metadata": {
        "colab": {
          "base_uri": "https://localhost:8080/"
        },
        "id": "bCfBlv9lrINx",
        "outputId": "4e5e108f-d744-4980-a756-e45c28c8005d"
      },
      "execution_count": null,
      "outputs": [
        {
          "output_type": "stream",
          "name": "stdout",
          "text": [
            "Digite sua linguagem de programação preferida: python\n",
            "\n",
            " Hello World python, a melhor de todas\n"
          ]
        }
      ]
    },
    {
      "cell_type": "markdown",
      "source": [
        "Operações matematicas em Python\n",
        "\n"
      ],
      "metadata": {
        "id": "FY8hOGJKyCiw"
      }
    },
    {
      "cell_type": "code",
      "source": [
        "operacao1 = 2 + 3 * 5\n",
        "print(f\"O resultado da operacao1 é = {operacao1}\")\n",
        "\n",
        "operacao2 = (2 + 3) * 5\n",
        "print(f\"O resultado da operação2 é = {operacao2}\")\n",
        "\n",
        "operacao3 = 6 / 3 ** 2\n",
        "print(f\"O resultado da operacao3 é = {operacao3}\")\n",
        "\n",
        "operacao4 = 13 % 3 * 4\n",
        "print(f\"O resultado da operaca4 é = {operacao4}\")"
      ],
      "metadata": {
        "colab": {
          "base_uri": "https://localhost:8080/"
        },
        "id": "puiJokQKx8ww",
        "outputId": "7996c99b-921a-4b5b-87f4-cddf42222a95"
      },
      "execution_count": null,
      "outputs": [
        {
          "output_type": "stream",
          "name": "stdout",
          "text": [
            "O resultado da operacao1 é = 17\n",
            "O resultado da operação2 é = 25\n",
            "O resultado da operacao3 é = 0.6666666666666666\n",
            "O resultado da operaca4 é = 4\n"
          ]
        }
      ]
    },
    {
      "cell_type": "code",
      "source": [
        "a = 2\n",
        "b = 5\n",
        "c = 1\n",
        "x = float(input(\"Digite o valor de X : \"))\n",
        "y = a * x ** 2 + b * x + c\n",
        "print(f\"\\no valor de y para x = {x} e {y}. \")"
      ],
      "metadata": {
        "colab": {
          "base_uri": "https://localhost:8080/"
        },
        "id": "KYioa7Om0ODY",
        "outputId": "1df101f5-66e7-4b9e-d84a-acdb1e39fb93"
      },
      "execution_count": null,
      "outputs": [
        {
          "output_type": "stream",
          "name": "stdout",
          "text": [
            "Digite o valor de X : 2\n",
            "\n",
            "o valor de y para x = 2.0 e 19.0. \n"
          ]
        }
      ]
    },
    {
      "cell_type": "markdown",
      "source": [
        "Etrutura condicionais if/elif/else"
      ],
      "metadata": {
        "id": "kLF9XWeV9mki"
      }
    },
    {
      "cell_type": "code",
      "source": [
        "idade = 2 #Estrutura condicional simples\n",
        "\n",
        "if idade <= 3 :\n",
        "  print(\"Caminho verdadeiro.\")\n",
        "  print(\"Sala de crianças de até 3 anos. \")\n",
        "\n",
        "else:\n",
        "  print(\"Caminho falso. \")\n",
        "  print(\"A criança não tem idade para ir para a sala, siga por aqui. \")\n"
      ],
      "metadata": {
        "colab": {
          "base_uri": "https://localhost:8080/"
        },
        "id": "SsLTi8_W9tgK",
        "outputId": "1409e080-9428-4216-9802-f3acdac9b728"
      },
      "execution_count": null,
      "outputs": [
        {
          "output_type": "stream",
          "name": "stdout",
          "text": [
            "Caminho verdadeiro.\n",
            "Sala de crianças de até 3 anos. \n"
          ]
        }
      ]
    },
    {
      "cell_type": "code",
      "source": [
        "nota1 = 7\n",
        "nota2 = 5\n",
        "media = (nota1 + nota2) / 2\n",
        "\n",
        "if media >= 7:\n",
        "  print(\"Aluno aprovado!\")\n",
        "\n",
        "elif media < 7 and media >= 4:\n",
        "  print(\"Aluno de recuperação.\")\n",
        "\n",
        "else:\n",
        "  print(\"Aluno reprovado.\")\n",
        "\n",
        "print(media)\n",
        "\n",
        "produto = 200 #incorpore o and no codigo\n",
        "dinheiro = 150\n",
        "\n",
        "if dinheiro >= 200:\n",
        "  print(\"Compra efetuada\")\n",
        "else:\n",
        "    print(\"Compra não efetuada\")\n"
      ],
      "metadata": {
        "colab": {
          "base_uri": "https://localhost:8080/"
        },
        "id": "OvZrNscP-oWF",
        "outputId": "f838cac8-43b3-4bed-b7d6-1b0c2c8012a5"
      },
      "execution_count": null,
      "outputs": [
        {
          "output_type": "stream",
          "name": "stdout",
          "text": [
            "Aluno de recuperação.\n",
            "6.0\n",
            "Compra não efetuada\n"
          ]
        }
      ]
    },
    {
      "cell_type": "code",
      "source": [
        "nota1 = float(input(\"Insira a nota parcial: \"))\n",
        "nota2 = float(input(\"Insira a nota global: \"))\n",
        "\n",
        "if nota1 < 4 or nota2 < 4:\n",
        "  seg_chamada = float(input(\"Insira a nota da segunda chamada: \"))\n",
        "  if nota1 < nota2:\n",
        "    nota1 = seg_chamada\n",
        "  else:\n",
        "    nota2 = seg_chamada\n",
        "\n",
        "media = (nota1 + nota2) / 2\n",
        "num_faltas = 4\n",
        "\n",
        "if media >= 7 and num_faltas < 5 :\n",
        "  print(\"Aluno aprovado!\")\n",
        "\n",
        "elif media >= 4:\n",
        "  print(\"Aluno de recuperação.\")\n",
        "\n",
        "else:\n",
        "  print(\"Aluno reprovado.\")\n",
        "\n",
        "print(media)"
      ],
      "metadata": {
        "colab": {
          "base_uri": "https://localhost:8080/"
        },
        "id": "CGgyehxpBAax",
        "outputId": "cdd9afea-4445-470e-9779-23f577512bc4"
      },
      "execution_count": null,
      "outputs": [
        {
          "output_type": "stream",
          "name": "stdout",
          "text": [
            "Insira a nota parcial: 5\n",
            "Insira a nota global: 3\n",
            "Insira a nota da segunda chamada: 5\n",
            "Aluno de recuperação.\n",
            "4.0\n"
          ]
        }
      ]
    },
    {
      "cell_type": "markdown",
      "source": [
        "Estruturas de repetição: While e For\n"
      ],
      "metadata": {
        "id": "S-7Zco99EYrK"
      }
    },
    {
      "cell_type": "code",
      "source": [
        "numero = 1 #Aqui não sabemos o numero de repetições\n",
        "\n",
        "while numero != 0:\n",
        "  numero = int(input(\"Digite um numero para testar se é par ou impar: \"))\n",
        "  if numero % 2 == 0:\n",
        "     print(\"Numero par\")\n",
        "  else:\n",
        "     print(\"Numero impar\")\n"
      ],
      "metadata": {
        "colab": {
          "base_uri": "https://localhost:8080/"
        },
        "id": "YsFFMF8zEdDf",
        "outputId": "67e0facc-36b2-4e1b-bb80-2b6fd6e40a4c"
      },
      "execution_count": null,
      "outputs": [
        {
          "output_type": "stream",
          "name": "stdout",
          "text": [
            "Digite um numero para testar se é par ou impar: 6\n",
            "Numero par\n",
            "Digite um numero para testar se é par ou impar: 7\n",
            "Numero impar\n",
            "Digite um numero para testar se é par ou impar: 8\n",
            "Numero par\n",
            "Digite um numero para testar se é par ou impar: 9\n",
            "Numero impar\n",
            "Digite um numero para testar se é par ou impar: 0\n",
            "Numero par\n"
          ]
        }
      ]
    },
    {
      "cell_type": "code",
      "source": [
        "senha = \"123\" #Aqui sabemos o numero de repetições\n",
        "\n",
        "for tentativa in range (3):\n",
        "  senha_digita = input(\"Digite a senha: \")\n",
        "  if senha_digita == senha:\n",
        "    print(\"Parabens você acerto!\")\n",
        "    break\n",
        "  else:\n",
        "    print(f\"Senha errada! Tentativa {tentativa+1}.\")\n",
        "    if tentativa == 2:\n",
        "          print(\"Sistema bloquado!\")\n"
      ],
      "metadata": {
        "colab": {
          "base_uri": "https://localhost:8080/"
        },
        "id": "9gN0g_mOHpNE",
        "outputId": "d0e0abb2-f17a-4869-fe23-973837525e36"
      },
      "execution_count": null,
      "outputs": [
        {
          "output_type": "stream",
          "name": "stdout",
          "text": [
            "Digite a senha: 132\n",
            "Senha errada! Tentativa 1.\n",
            "Digite a senha: 121\n",
            "Senha errada! Tentativa 2.\n",
            "Digite a senha: 111\n",
            "Senha errada! Tentativa 3.\n",
            "Sistema bloquado!\n"
          ]
        }
      ]
    },
    {
      "cell_type": "code",
      "source": [
        "disciplina = \"Linguagem de programação em Python\"\n",
        "for letra in disciplina:\n",
        "  if letra == \"a\":\n",
        "     continue\n",
        "  else:\n",
        "    print(letra)"
      ],
      "metadata": {
        "colab": {
          "base_uri": "https://localhost:8080/"
        },
        "id": "yoMmExz4K7C-",
        "outputId": "6ff37326-ce2b-4cf4-f36e-2c7492b14e85"
      },
      "execution_count": null,
      "outputs": [
        {
          "output_type": "stream",
          "name": "stdout",
          "text": [
            "L\n",
            "i\n",
            "n\n",
            "g\n",
            "u\n",
            "g\n",
            "e\n",
            "m\n",
            " \n",
            "d\n",
            "e\n",
            " \n",
            "p\n",
            "r\n",
            "o\n",
            "g\n",
            "r\n",
            "m\n",
            "ç\n",
            "ã\n",
            "o\n",
            " \n",
            "e\n",
            "m\n",
            " \n",
            "P\n",
            "y\n",
            "t\n",
            "h\n",
            "o\n",
            "n\n"
          ]
        }
      ]
    },
    {
      "cell_type": "markdown",
      "source": [
        "Funções\n"
      ],
      "metadata": {
        "id": "gP17sYpBKo3u"
      }
    },
    {
      "cell_type": "code",
      "source": [
        "a = 2\n",
        "b = 1\n",
        "equação = input(\"Digite a formula geral da equação linear (a * x + b): \")\n",
        "print(f\"\\nA entrada do usuario {equação} é do tipo {type(equação)}\")\n",
        "\n",
        "for x in range (5):\n",
        "  y = eval(equação)\n",
        "  print(f\"\\nResultado da equação para = {x} é {y}\")\n",
        "\n"
      ],
      "metadata": {
        "colab": {
          "base_uri": "https://localhost:8080/"
        },
        "id": "0nl8r__OKtVV",
        "outputId": "29477ccf-1303-4496-a9fe-0eae4d08f6dd"
      },
      "execution_count": null,
      "outputs": [
        {
          "output_type": "stream",
          "name": "stdout",
          "text": [
            "Digite a formula geral da equação linear (a * x + b): a*x+b\n",
            "\n",
            "A entrada do usuario a*x+b é do tipo <class 'str'>\n",
            "\n",
            "Resultado da equação para = 0 é 1\n",
            "\n",
            "Resultado da equação para = 1 é 3\n",
            "\n",
            "Resultado da equação para = 2 é 5\n",
            "\n",
            "Resultado da equação para = 3 é 7\n",
            "\n",
            "Resultado da equação para = 4 é 9\n"
          ]
        }
      ]
    },
    {
      "cell_type": "markdown",
      "source": [
        "Como criar funções?"
      ],
      "metadata": {
        "id": "JlKbgimXNWkW"
      }
    },
    {
      "cell_type": "code",
      "source": [
        "#criando funções\n",
        "def nomeDaFuncao ():\n",
        "  #bloco de comandos\n",
        "  nomeDaFuncao() #chamada da função"
      ],
      "metadata": {
        "id": "u2RkFSO9Nc4F"
      },
      "execution_count": null,
      "outputs": []
    },
    {
      "cell_type": "code",
      "source": [
        "def imprimirMensagem(disciplina, curso):\n",
        "  print(f\"Minha primeira função em Python desenvolvida na disciplina: {disciplina}, do curso {curso}.\")\n",
        "  imprimirMensagem(\"Python\", \"ADS\")"
      ],
      "metadata": {
        "id": "pcrhUss3OgRi"
      },
      "execution_count": null,
      "outputs": []
    },
    {
      "cell_type": "code",
      "source": [
        "def imprimirMensagem(disciplina, curso):\n",
        "  print(f\"Minha primeira função em Python desenvolvida na disciplina: {disciplina}, do curso {curso}.\")\n",
        "\n",
        "disciplina_escolhida = input(\"Digite a disciplina escolhida: \")\n",
        "curso_escolhido = input(\"Digite o curso escolhido: \")\n",
        "imprimirMensagem(disciplina_escolhida, curso_escolhido)"
      ],
      "metadata": {
        "colab": {
          "base_uri": "https://localhost:8080/"
        },
        "id": "hRsVGNX2QX3G",
        "outputId": "a2285066-d3ca-4e21-9de9-7022e3353da2"
      },
      "execution_count": null,
      "outputs": [
        {
          "output_type": "stream",
          "name": "stdout",
          "text": [
            "Digite a disciplina escolhida: Python\n",
            "Digite o curso escolhido: ADS\n",
            "Minha primeira função em Python desenvolvida na disciplina: Python, do curso ADS.\n"
          ]
        }
      ]
    },
    {
      "cell_type": "code",
      "source": [
        "def imprimirMensagem(disciplina, curso):\n",
        "  msn = f\"Minha primeira função em Python desenvolvida na disciplina: {disciplina}, do curso {curso}.\"\n",
        "  return msn\n",
        "\n",
        "disciplina_escolhida = input(\"Digite a disciplina escolhida: \")\n",
        "curso_escolhido = input(\"Digite o curso escolhido: \")\n",
        "mensagem = imprimirMensagem(disciplina_escolhida, curso_escolhido)\n",
        "print(mensagem)"
      ],
      "metadata": {
        "colab": {
          "base_uri": "https://localhost:8080/"
        },
        "id": "D0F1c4hJRR42",
        "outputId": "d5e7c7e0-9843-44aa-923f-f689bfb4731c"
      },
      "execution_count": null,
      "outputs": [
        {
          "output_type": "stream",
          "name": "stdout",
          "text": [
            "Digite a disciplina escolhida: python\n",
            "Digite o curso escolhido: ADS\n",
            "Minha primeira função em Python desenvolvida na disciplina: python, do curso ADS.\n"
          ]
        }
      ]
    },
    {
      "cell_type": "code",
      "source": [
        "def converterMesExtenso (data):\n",
        "  mes = [\n",
        "      \"janeiro\",\n",
        "      \"fevereiro\",\n",
        "      \"março\",\n",
        "      \"abril\",\n",
        "      \"maio\",\n",
        "      \"junho\",\n",
        "      \"julho\",\n",
        "      \"agosto\",\n",
        "      \"setembro\",\n",
        "      \"outubro\",\n",
        "      \"novembro\",\n",
        "      \"dezembro\"\n",
        "  ]\n",
        "  d, m, a = data.split(\"/\")\n",
        "  mes_extenso = mes[int(m)-1]\n",
        "  data_extenso = f\"{d} de {mes_extenso} de {a}\"\n",
        "  return data_extenso\n",
        "\n",
        "data_convertida = converterMesExtenso(\"06/11/1987\")\n",
        "print(data_convertida)"
      ],
      "metadata": {
        "colab": {
          "base_uri": "https://localhost:8080/"
        },
        "id": "8AEgUSKvSp0Y",
        "outputId": "612b76e5-c212-42c0-c46c-aba488cf1811"
      },
      "execution_count": null,
      "outputs": [
        {
          "output_type": "stream",
          "name": "stdout",
          "text": [
            "06 de novembro de 1987\n"
          ]
        }
      ]
    },
    {
      "cell_type": "code",
      "source": [
        "def somar (a=0, b=0):\n",
        "  return a + b\n",
        "\n",
        "  print(somar(2,2))"
      ],
      "metadata": {
        "id": "Ofiw1U6bOqse"
      },
      "execution_count": null,
      "outputs": []
    },
    {
      "cell_type": "code",
      "source": [
        "def calcular_desconto (valor, desconto = 0):\n",
        "  valor_com_desconto = valor -(valor * desconto)\n",
        "  return valor_com_desconto\n",
        "\n",
        "x = int(input(\"Digite o valor:\"))\n",
        "y = float(input(\"Digite o desconto:\"))\n",
        "\n",
        "valor1 = calcular_desconto(x)\n",
        "valor2 = calcular_desconto(x, y)\n",
        "\n",
        "print(f\"\\nPrimeiro valor a ser pago {valor1}\")\n",
        "print(f\"\\nSegundo valor a ser pago {valor2}\")\n"
      ],
      "metadata": {
        "colab": {
          "base_uri": "https://localhost:8080/"
        },
        "id": "r4ZXCQxCPV2Q",
        "outputId": "fce5c189-e754-460a-c1d0-8eb4a653112d"
      },
      "execution_count": null,
      "outputs": [
        {
          "output_type": "stream",
          "name": "stdout",
          "text": [
            "Digite o valor:250\n",
            "Digite o desconto:0.25\n",
            "\n",
            "Primeiro valor a ser pago 250\n",
            "\n",
            "Segundo valor a ser pago 187.5\n"
          ]
        }
      ]
    },
    {
      "cell_type": "markdown",
      "source": [
        "Exercicios a seguir\n",
        "\n",
        "Calcule a média da lista"
      ],
      "metadata": {
        "id": "k8GuiVYVWol1"
      }
    },
    {
      "cell_type": "code",
      "source": [
        "numeros = [10, 20, 30, 40, 50]\n",
        "x = 10\n",
        "y = 20\n",
        "z = 30\n",
        "m = 40\n",
        "n = 50\n",
        "\n",
        "media = (x + y + z + m + n) / 5\n",
        "\n",
        "print(media)"
      ],
      "metadata": {
        "colab": {
          "base_uri": "https://localhost:8080/"
        },
        "id": "vKDGrpNfRNF3",
        "outputId": "25d78849-1560-4486-c1eb-2762e9f7edbc"
      },
      "execution_count": null,
      "outputs": [
        {
          "output_type": "stream",
          "name": "stdout",
          "text": [
            "30.0\n"
          ]
        }
      ]
    },
    {
      "cell_type": "code",
      "source": [
        "palavras = [\"python\", \"asimov\", \"código\", \"web\", \"programação\"]\n",
        "\n",
        "maior_palavra = palavras[0]\n",
        "menor_palavra = palavras[0]\n",
        "\n",
        "for palavra in palavras:\n",
        "  if len(palavra) > len(maior_palavra):\n",
        "        maior_palavra = palavra\n",
        "  if len(palavra) < len(menor_palavra):\n",
        "        menor_palavra = palavra\n",
        "\n",
        "print(\"A maior palavra é:\", maior_palavra)\n",
        "print(\"A menor palavra é:\", menor_palavra)"
      ],
      "metadata": {
        "colab": {
          "base_uri": "https://localhost:8080/"
        },
        "id": "JRVdfpNDZ42N",
        "outputId": "f288a80e-0c84-4579-c461-47d806e63131"
      },
      "execution_count": null,
      "outputs": [
        {
          "output_type": "stream",
          "name": "stdout",
          "text": [
            "A maior palavra é: programação\n",
            "A menor palavra é: web\n"
          ]
        }
      ]
    },
    {
      "cell_type": "code",
      "source": [
        "numeros = [32, 10, 58, 30, 55, 12, 28, 51]\n",
        "\n",
        "numeros.sort()\n",
        "segunda_maior = numeros[-2]\n",
        "print(\"O segundo maior numero é :\", segunda_maior)\n"
      ],
      "metadata": {
        "colab": {
          "base_uri": "https://localhost:8080/"
        },
        "id": "mhqXo3OegRJG",
        "outputId": "243be44b-0b52-489b-c8a9-05ded0fbb705"
      },
      "execution_count": null,
      "outputs": [
        {
          "output_type": "stream",
          "name": "stdout",
          "text": [
            "O segundo maior numero é : 55\n"
          ]
        }
      ]
    },
    {
      "cell_type": "code",
      "source": [
        "operação1 = (10+20) * 30\n",
        "operação2 = 4**2/30\n",
        "operação3 = (9**4 + 2)* 6 - 1\n",
        "print(operação1)\n",
        "print(operação2)\n",
        "print(operação3)"
      ],
      "metadata": {
        "colab": {
          "base_uri": "https://localhost:8080/"
        },
        "id": "fWcWu8HOk7Sh",
        "outputId": "8096bb92-f687-4fba-8a51-1115460dd89c"
      },
      "execution_count": null,
      "outputs": [
        {
          "output_type": "stream",
          "name": "stdout",
          "text": [
            "900\n",
            "0.5333333333333333\n",
            "39377\n"
          ]
        }
      ]
    },
    {
      "cell_type": "code",
      "source": [
        " calculo = 10 % 3 * 10 ** 2 + 1 - 10 * 4 / 2\n",
        " print(calculo)"
      ],
      "metadata": {
        "colab": {
          "base_uri": "https://localhost:8080/"
        },
        "id": "uQFIsGukmWOS",
        "outputId": "a546dbec-d09b-42d6-f41c-8f12143d9d52"
      },
      "execution_count": null,
      "outputs": [
        {
          "output_type": "stream",
          "name": "stdout",
          "text": [
            "81.0\n"
          ]
        }
      ]
    },
    {
      "cell_type": "code",
      "source": [
        "a = 2\n",
        "b = 6\n",
        "c = 5\n",
        "soma = a + b + c\n",
        "print(soma)"
      ],
      "metadata": {
        "colab": {
          "base_uri": "https://localhost:8080/"
        },
        "id": "38jEUxBsnpxq",
        "outputId": "f5abcb10-4aa8-443c-c625-6379decc9bd1"
      },
      "execution_count": null,
      "outputs": [
        {
          "output_type": "stream",
          "name": "stdout",
          "text": [
            "13\n"
          ]
        }
      ]
    },
    {
      "cell_type": "code",
      "source": [
        "salario = 750\n",
        "aumento = 15\n",
        "\n",
        "salario_aumento= (salario + (salario * aumento / 100))\n",
        "\n",
        "print(salario_aumento)"
      ],
      "metadata": {
        "colab": {
          "base_uri": "https://localhost:8080/"
        },
        "id": "w_K8aOMpoRxD",
        "outputId": "2eb03870-04b4-4be9-afc6-191d4567c7f7"
      },
      "execution_count": null,
      "outputs": [
        {
          "output_type": "stream",
          "name": "stdout",
          "text": [
            "862.5\n"
          ]
        }
      ]
    },
    {
      "cell_type": "code",
      "source": [
        "salario = int(input(\"Digite o seu salario: \"))\n",
        "if salario > 1200:\n",
        "   print(\"Paga imposto\")\n",
        "else:\n",
        "   print(\"Não paga imposto\")\n"
      ],
      "metadata": {
        "colab": {
          "base_uri": "https://localhost:8080/"
        },
        "id": "9hvXSTJZpeTk",
        "outputId": "fb0b6ef7-7e88-4478-a359-b6e065ac1155"
      },
      "execution_count": null,
      "outputs": [
        {
          "output_type": "stream",
          "name": "stdout",
          "text": [
            "Digite o seu salario: 1250\n",
            "Paga imposto\n"
          ]
        }
      ]
    },
    {
      "cell_type": "markdown",
      "source": [
        "Escreva uma expressão que será utilizada para decidir se um aluno foi ou não aprovado. Para ser aprovado, todas as médias do aluno devem ser maiores que 7. Considere que o aluno cursa apenas três matérias, e que a nota de cada uma está armazenada nas seguintes variáveis: matéria1, matéria2 e matéria3."
      ],
      "metadata": {
        "id": "Ydc6LNeJrdQN"
      }
    },
    {
      "cell_type": "code",
      "source": [
        "materia1 = float(input(\"Digite a nota da materia1 :\"))\n",
        "materia2 = float(input(\"Digite a nota da materia2 :\"))\n",
        "materia3 = float(input(\"Digite a nota da materia3 :\"))\n",
        "media = (materia1 + materia2 + materia3)/3\n",
        "\n",
        "print(media)\n",
        "\n",
        "if media >= 7:\n",
        "  print(\"Aluno aprovado!\")\n",
        "elif media < 7 and media <= 5 :\n",
        "  print(\"Aluno de Recuperação!\")\n",
        "else:\n",
        "  print(\"Aluno reprovado!\")\n",
        "\n"
      ],
      "metadata": {
        "colab": {
          "base_uri": "https://localhost:8080/"
        },
        "id": "TLpJx7QereyN",
        "outputId": "5e6e7dbb-3533-4ba3-d1ee-8dd9eeceae27"
      },
      "execution_count": null,
      "outputs": [
        {
          "output_type": "stream",
          "name": "stdout",
          "text": [
            "Digite a nota da materia1 :5.0\n",
            "Digite a nota da materia2 :4.0\n",
            "Digite a nota da materia3 :6.0\n",
            "5.0\n",
            "Auno de Recuperação!\n"
          ]
        }
      ]
    },
    {
      "cell_type": "code",
      "source": [
        "numero1 = int(input(\"Digite um numero: \"))\n",
        "numero2 = int(input(\"Digite um numero: \"))\n",
        "soma = numero1 + numero2\n",
        "print(f\"O valor da soma é : {soma}\")"
      ],
      "metadata": {
        "colab": {
          "base_uri": "https://localhost:8080/"
        },
        "id": "zkXtEmAtu9g-",
        "outputId": "c14c4e0c-1234-4449-b1f3-637b35afb11d"
      },
      "execution_count": null,
      "outputs": [
        {
          "output_type": "stream",
          "name": "stdout",
          "text": [
            "Digite um numero: 15\n",
            "Digite um numero: 25\n",
            "O valor da soma é : 40\n"
          ]
        }
      ]
    },
    {
      "cell_type": "code",
      "source": [
        "salario = float(input(\"Digite o valor do salario: \"))\n",
        "aumento = float(input(\"Digite o valor do aumento: \"))\n",
        "\n",
        "salario_aumento = (salario + (salario * aumento/100))\n",
        "\n",
        "print(f\"O novo salario é : {salario_aumento}\")\n"
      ],
      "metadata": {
        "colab": {
          "base_uri": "https://localhost:8080/"
        },
        "id": "YQIOolYwnqcK",
        "outputId": "dc47692a-3d08-4fd0-c192-422881edfe07"
      },
      "execution_count": null,
      "outputs": [
        {
          "output_type": "stream",
          "name": "stdout",
          "text": [
            "Digite o valor do salario: 2500\n",
            "Digite o valor do aumento: 0.1\n",
            "O novo salario é : 2502.5\n"
          ]
        }
      ]
    },
    {
      "cell_type": "code",
      "source": [
        "mercadoria = float(input(\"Digite o valor da mercadoria:\"))\n",
        "desconto = float(input(\"Digite o valor do desconto: \"))\n",
        "mercadoria_valor = (mercadoria + (mercadoria * desconto/100))\n",
        "\n",
        "print(f\"O valor do desconto é : {desconto}\")\n",
        "print(f\"O novo valor para pagamento é : {mercadoria_valor}\")"
      ],
      "metadata": {
        "colab": {
          "base_uri": "https://localhost:8080/"
        },
        "id": "4Kgvn-RUqt44",
        "outputId": "8b0db036-efd2-41fb-cf00-fe97f3d98804"
      },
      "execution_count": null,
      "outputs": [
        {
          "output_type": "stream",
          "name": "stdout",
          "text": [
            "Digite o valor da mercadoria:25\n",
            "Digite o valor do desconto: 0.15\n",
            "O valor do desconto é : 0.15\n",
            "O novo valor para pagamento é : 25.0375\n"
          ]
        }
      ]
    },
    {
      "cell_type": "code",
      "source": [
        "a = int(input(\"Digite o numero a: \"))\n",
        "b = int(input(\"Digite o numero b: \"))\n",
        "c = int(input(\"Digite o numero c: \"))\n",
        "\n",
        "if a > b and a > c :\n",
        "  print(\"O numero a é o maior numero!\")\n",
        "elif b > a and b > c:\n",
        "  print(\"O numero b é o maior numero!\")\n",
        "elif c > a and c > b:\n",
        "  print(\"O numero c é o maior numero!\")\n",
        "\n",
        "if a < b and a < c:\n",
        "  print(\"O numero a é o menor numero!\")\n",
        "elif b < a and b < c :\n",
        "  print(\"O numero b é o menor numero! \")\n",
        "elif c < a and c < b :\n",
        "  print(\"O numero c é o menor numero! \")\n",
        "\n"
      ],
      "metadata": {
        "colab": {
          "base_uri": "https://localhost:8080/"
        },
        "id": "hFwiE5vQtlfG",
        "outputId": "508e32f1-7484-4660-b23b-d70b2494b18d"
      },
      "execution_count": null,
      "outputs": [
        {
          "output_type": "stream",
          "name": "stdout",
          "text": [
            "Digite o numero a: 2\n",
            "Digite o numero b: 4\n",
            "Digite o numero c: 6\n",
            "O numero c é o maior numero!\n",
            "O numero a é o menor numero!\n"
          ]
        }
      ]
    },
    {
      "cell_type": "markdown",
      "source": [
        "Escreva um programa que pergunte o salário do funcionário e calcule o valor do aumento. Para salários superiores a R$ 1.250,00, calcule um aumento de 10%. Para os inferiores ou iguais, de 15%."
      ],
      "metadata": {
        "id": "sP_UrdfExKQz"
      }
    },
    {
      "cell_type": "code",
      "source": [
        "salario = float(input(\"Digite o valor do salario: \"))\n",
        "\n",
        "if salario > 1250:\n",
        "   salario_aumento = salario + (salario  *  0.10 /100)\n",
        "   print(f\"O novo salario é {salario_aumento}\")\n",
        "if salario <= 1250:\n",
        "   salario_aumento2 = salario + (salario * 0.15 / 100)\n",
        "   print(f\"O novo salario é {salario_aumento2}\")"
      ],
      "metadata": {
        "colab": {
          "base_uri": "https://localhost:8080/"
        },
        "id": "k-eX2LOWwbBx",
        "outputId": "29285d2f-163a-4122-beb4-d1e8e773d541"
      },
      "execution_count": null,
      "outputs": [
        {
          "output_type": "stream",
          "name": "stdout",
          "text": [
            "Digite o valor do salario: 1700\n",
            "O novo salario é 1701.7\n"
          ]
        }
      ]
    },
    {
      "cell_type": "code",
      "source": [
        "a = int(input(\"Digite o primeiro numero: \"))\n",
        "b = int(input(\"Digite o segundo numero: \"))\n",
        "operação = input(\"Qual o operação você deseja? \")\n",
        "\n",
        "if operação == \"soma\":\n",
        "  soma = a + b\n",
        "  print(f\" A soma é {soma}\")\n",
        "\n",
        "elif operação == \"subtracao\":\n",
        "  subtracao = a - b\n",
        "  print(f\"A subtração é {subtracao}\")\n",
        "\n",
        "elif operação == \"multiplicação\":\n",
        "  multiplicação = a * b\n",
        "  print(f\" A multiplicação é {multiplicação}\")\n",
        "\n",
        "elif operação == \"divisão\":\n",
        "  divisão = a / b\n",
        "  print(f\"A divisão é {divisão}\")\n",
        "\n",
        "else:\n",
        "  (\"Operação inválida! \")\n",
        "\n",
        "\n"
      ],
      "metadata": {
        "colab": {
          "base_uri": "https://localhost:8080/"
        },
        "id": "PWEpF_dn05ub",
        "outputId": "6d623693-2bf0-4773-b5f2-920268be7ec5"
      },
      "execution_count": null,
      "outputs": [
        {
          "output_type": "stream",
          "name": "stdout",
          "text": [
            "Digite o primeiro numero:15\n",
            "Digite o segundo numero:6\n",
            "Qual o operação você deseja? multiplicação\n",
            " A multiplicação é 90\n"
          ]
        }
      ]
    },
    {
      "cell_type": "code",
      "source": [
        "x = 1\n",
        "while x <= 100:\n",
        "  print(x)\n",
        "  x = x + 1\n"
      ],
      "metadata": {
        "id": "wB8UgfUI2bpS"
      },
      "execution_count": null,
      "outputs": []
    },
    {
      "cell_type": "code",
      "source": [
        "x = 50\n",
        "while x <= 100:\n",
        "  print(x)\n",
        "  x = x + 1\n"
      ],
      "metadata": {
        "id": "0g80ZfrA7Q2d"
      },
      "execution_count": null,
      "outputs": []
    },
    {
      "cell_type": "code",
      "source": [
        "x = 10\n",
        "while x >= 0:\n",
        "  print(x)\n",
        "  x = x - 1\n",
        "print(\"Fogo!\")"
      ],
      "metadata": {
        "id": "Ot3yPC4v7ljG"
      },
      "execution_count": null,
      "outputs": []
    },
    {
      "cell_type": "code",
      "source": [
        "fim = 30\n",
        "x = 3\n",
        "while x <= fim:\n",
        "  print(x)\n",
        "  x = x + 3"
      ],
      "metadata": {
        "id": "n41ooWN_P0Ph"
      },
      "execution_count": null,
      "outputs": []
    },
    {
      "cell_type": "markdown",
      "source": [
        "# **Tabuada com While**"
      ],
      "metadata": {
        "id": "5qLDiHxXSsy1"
      }
    },
    {
      "cell_type": "code",
      "source": [
        "n = 2\n",
        "x = 1\n",
        "while x < 10:\n",
        "  print(f\"{n} x {x} = {n * x}\")\n",
        "  x = x + 1\n"
      ],
      "metadata": {
        "colab": {
          "base_uri": "https://localhost:8080/"
        },
        "id": "_bCwMTlBQnPe",
        "outputId": "4b209f96-5e27-4dda-9147-5a0cfb578e85"
      },
      "execution_count": null,
      "outputs": [
        {
          "output_type": "stream",
          "name": "stdout",
          "text": [
            "2 x 1 = 2\n",
            "2 x 2 = 4\n",
            "2 x 3 = 6\n",
            "2 x 4 = 8\n",
            "2 x 5 = 10\n",
            "2 x 6 = 12\n",
            "2 x 7 = 14\n",
            "2 x 8 = 16\n",
            "2 x 9 = 18\n"
          ]
        }
      ]
    },
    {
      "cell_type": "markdown",
      "source": [
        "# Algoritmo de deposito na poupança com while."
      ],
      "metadata": {
        "id": "ETiyvgUOZUDa"
      }
    },
    {
      "cell_type": "code",
      "source": [
        "deposito = float(input(\"Deposito inicial: \"))\n",
        "taxa = float(input(\"Taxa de juros: \"))\n",
        "investimento = float(input(\"Depósito mensal: \"))\n",
        "mes = 1\n",
        "saldo = deposito\n",
        "while mes <= 24:\n",
        "  saldo = saldo + (saldo * (taxa / 100)) + investimento\n",
        "  print(f\"Saldo do mes {mes} é de R${saldo:5.2f}.\")\n",
        "  mes = mes + 1\n",
        "print(f\"O ganho obtido com juros foi de R${saldo-deposito:8.2f}\")"
      ],
      "metadata": {
        "colab": {
          "base_uri": "https://localhost:8080/"
        },
        "id": "nwIobHMEWs63",
        "outputId": "fac79338-01eb-4ded-e876-ffe6b9b18638"
      },
      "execution_count": null,
      "outputs": [
        {
          "output_type": "stream",
          "name": "stdout",
          "text": [
            "Deposito inicial: 20\n",
            "Taxa de juros: 3\n",
            "Depósito mensal: 500\n",
            "Saldo do mes 1 é de R$520.60.\n",
            "Saldo do mes 2 é de R$1036.22.\n",
            "Saldo do mes 3 é de R$1567.30.\n",
            "Saldo do mes 4 é de R$2114.32.\n",
            "Saldo do mes 5 é de R$2677.75.\n",
            "Saldo do mes 6 é de R$3258.09.\n",
            "Saldo do mes 7 é de R$3855.83.\n",
            "Saldo do mes 8 é de R$4471.50.\n",
            "Saldo do mes 9 é de R$5105.65.\n",
            "Saldo do mes 10 é de R$5758.82.\n",
            "Saldo do mes 11 é de R$6431.58.\n",
            "Saldo do mes 12 é de R$7124.53.\n",
            "Saldo do mes 13 é de R$7838.27.\n",
            "Saldo do mes 14 é de R$8573.41.\n",
            "Saldo do mes 15 é de R$9330.62.\n",
            "Saldo do mes 16 é de R$10110.53.\n",
            "Saldo do mes 17 é de R$10913.85.\n",
            "Saldo do mes 18 é de R$11741.27.\n",
            "Saldo do mes 19 é de R$12593.50.\n",
            "Saldo do mes 20 é de R$13471.31.\n",
            "Saldo do mes 21 é de R$14375.45.\n",
            "Saldo do mes 22 é de R$15306.71.\n",
            "Saldo do mes 23 é de R$16265.91.\n",
            "Saldo do mes 24 é de R$17253.89.\n",
            "O ganho obtido com juros foi de R$17233.89\n"
          ]
        }
      ]
    },
    {
      "cell_type": "code",
      "source": [
        "divida = float(input(\"Digite o valor da divida:\"))\n",
        "juros = float(input(\"Digite o juros mensal: \"))\n",
        "pagamento = float(input(\"Digite o valor mensal que sera pago: \"))\n",
        "mes = 1\n",
        "if divida * (taxa / 100) > pagamento:\n",
        "  print(\"Sua dívida não será paga nunca, pois os juros são superiores ao pagamento mensal\")\n",
        "else:\n",
        "  saldo = divida\n",
        "  juros_pago = 0\n",
        "  while saldo > pagamento:\n",
        "    juros = saldo * taxa / 100\n",
        "    saldo = saldo + juros - pagamento\n",
        "    juros_pago = juros_pago + juros\n",
        "    print(f\"Saldo da dívida no mês {mês} é de R${saldo:6.2f}.\")\n",
        "    mês = mês + 1\n",
        "print(f\"Para pagar uma dívida de R${divida:8.2f}, a {taxa:5.2f} % de juros,\")\n",
        "print(f\"você precisará de {mes - 1} meses, pagando um total de R${juros_pago:8.2f} de juros.\")\n",
        "print(f\"No último mês, você teria um saldo residual de R${saldo:8.2f} a pagar.\")"
      ],
      "metadata": {
        "colab": {
          "base_uri": "https://localhost:8080/"
        },
        "id": "c4BMz6gZa-HI",
        "outputId": "ef42e33f-e884-4711-dce7-76f077b7cb67"
      },
      "execution_count": null,
      "outputs": [
        {
          "output_type": "stream",
          "name": "stdout",
          "text": [
            "Digite o valor da divida:500\n",
            "Digite o juros mensal: 2\n",
            "Digite o valor mensal que sera pago: 500\n",
            "Para pagar uma dívida de R$  500.00, a  3.00 % de juros,\n",
            "você precisará de 0 meses, pagando um total de R$    0.00 de juros.\n",
            "No último mês, você teria um saldo residual de R$  500.00 a pagar.\n"
          ]
        }
      ]
    },
    {
      "cell_type": "code",
      "source": [
        "soma = 0\n",
        "quantidade = 0\n",
        "while True:\n",
        "     numero  = int(input(\"Digite um numero : \"))\n",
        "     if numero == 0:\n",
        "         break\n",
        "     soma = soma + numero\n",
        "     quantidade = quantidade + 1\n",
        "print(\"Numeros digitados:\", quantidade)\n",
        "print(\"Soma:\", soma)\n",
        "print(f\"A media: {soma/quantidade:10.2f}\")\n",
        "\n"
      ],
      "metadata": {
        "colab": {
          "base_uri": "https://localhost:8080/"
        },
        "id": "5BLHUVEPxctS",
        "outputId": "ca7fb430-7127-4046-90db-dd265878cbbd"
      },
      "execution_count": null,
      "outputs": [
        {
          "output_type": "stream",
          "name": "stdout",
          "text": [
            "Digite um numero : 5\n",
            "Digite um numero : 6\n",
            "Digite um numero : 4\n",
            "Digite um numero : 10\n",
            "Digite um numero : 6\n",
            "Digite um numero : 0\n",
            "Numeros digitados: 5\n",
            "Soma: 31\n",
            "A media:       6.20\n"
          ]
        }
      ]
    },
    {
      "cell_type": "code",
      "source": [
        "apagar = 0\n",
        "while True:\n",
        "  codigo = int(input(\"Digite o codigo do produto (0 para sair): \"))\n",
        "  preço = 0\n",
        "  if codigo == 0:\n",
        "    break\n",
        "  elif codigo == 1:\n",
        "       preço = 0.50\n",
        "  elif codigo == 2:\n",
        "       preço = 1.00\n",
        "  elif codigo == 3:\n",
        "       preço = 4.00\n",
        "  elif codigo == 4:\n",
        "       preço = 7.00\n",
        "  elif codigo == 5:\n",
        "       preço = 8.00\n",
        "  else:\n",
        "     print(\"Codigo inválido!\")\n",
        "  if preço != 0:\n",
        "    quantidade = int(input(\"Quantidade: \"))\n",
        "    apagar = apagar + (preço * quantidade)\n",
        "    print(f\"Total a pagar {apagar:8.2f}\")\n"
      ],
      "metadata": {
        "colab": {
          "base_uri": "https://localhost:8080/"
        },
        "id": "kscCCPMJ1VnP",
        "outputId": "fbc4abea-14c1-4409-b3ae-6ea4a2f2c3e7"
      },
      "execution_count": null,
      "outputs": [
        {
          "name": "stdout",
          "output_type": "stream",
          "text": [
            "Digite o codigo do produto (0 para sair): 4\n",
            "Quantidade: 2\n",
            "Total a pagar    14.00\n",
            "Digite o codigo do produto (0 para sair): 6\n",
            "Codigo inválido!\n",
            "Digite o codigo do produto (0 para sair): 5\n",
            "Quantidade: 1\n",
            "Total a pagar    22.00\n",
            "Digite o codigo do produto (0 para sair): 1\n",
            "Quantidade: 5\n",
            "Total a pagar    24.50\n",
            "Digite o codigo do produto (0 para sair): 3\n",
            "Quantidade: 3\n",
            "Total a pagar    36.50\n",
            "Digite o codigo do produto (0 para sair): 0\n"
          ]
        }
      ]
    },
    {
      "cell_type": "code",
      "source": [
        "minha_lista = [5,3,6,4]\n",
        "res = [i*2 for i in minha_lista]\n",
        "print(res)\n"
      ],
      "metadata": {
        "colab": {
          "base_uri": "https://localhost:8080/"
        },
        "id": "wkHPR8DJqiQZ",
        "outputId": "26683c3b-585e-4619-ff15-ca6ea5191221"
      },
      "execution_count": null,
      "outputs": [
        {
          "output_type": "stream",
          "name": "stdout",
          "text": [
            "[10, 6, 12, 8]\n"
          ]
        }
      ]
    },
    {
      "cell_type": "markdown",
      "source": [
        "**Escreva um programa que leia um número e verifique se é ou não um número primo. Para fazer essa verificação, calcule o resto da divisão do número por 2 e depois por todos os números ímpares até o número lido. Se o resto de uma dessas divisões for igual a zero, o número não é primo. Observe que 0 e 1 não são primos e que 2 é o único número primo que é par.**"
      ],
      "metadata": {
        "id": "Gu3tGh4QD1Lq"
      }
    },
    {
      "cell_type": "code",
      "source": [
        "n = int(input(\"Digite um numero: \"))\n",
        "if n < 0:\n",
        "  print(\"Inválido! Digite apenas valores positivos.\")\n",
        "if n == 0 or n == 1:\n",
        "    print(\"Não são numeros primos\")\n",
        "else:\n",
        "  if n == 2:\n",
        "    print(\"Único numero primo que é par\")\n",
        "  elif n % 2 == 0:\n",
        "    print(f\"{n} não é primo, pois 2 é o único numero par primo\")\n",
        "  else:\n",
        "      x = 3\n",
        "      while x < n:\n",
        "         if n % x == 0:\n",
        "             break\n",
        "         x = x + 2\n",
        "      if x == n:\n",
        "          print(f\"{n} é primo\")\n",
        "      else:\n",
        "          print(f\"{n} não é primo, pois é divisível por {x}\")\n",
        "\n",
        "\n"
      ],
      "metadata": {
        "colab": {
          "base_uri": "https://localhost:8080/"
        },
        "id": "xmfkX7rhD4CD",
        "outputId": "9d8891d8-61a9-43d5-c2a3-8bf2c4930a0c"
      },
      "execution_count": null,
      "outputs": [
        {
          "output_type": "stream",
          "name": "stdout",
          "text": [
            "Digite um numero: 110\n",
            "110 não é primo, pois 2 é o único par primo\n"
          ]
        }
      ]
    },
    {
      "cell_type": "code",
      "source": [
        "import calendar\n",
        "\n",
        "ano = 2024\n",
        "mes = 11\n",
        "\n",
        "print(calendar.month(ano, mes))"
      ],
      "metadata": {
        "colab": {
          "base_uri": "https://localhost:8080/"
        },
        "id": "EoGZ58a5Keiq",
        "outputId": "63c97a26-9389-44fc-8599-e668e5b6d430"
      },
      "execution_count": null,
      "outputs": [
        {
          "output_type": "stream",
          "name": "stdout",
          "text": [
            "   November 2024\n",
            "Mo Tu We Th Fr Sa Su\n",
            "             1  2  3\n",
            " 4  5  6  7  8  9 10\n",
            "11 12 13 14 15 16 17\n",
            "18 19 20 21 22 23 24\n",
            "25 26 27 28 29 30\n",
            "\n"
          ]
        }
      ]
    },
    {
      "cell_type": "code",
      "source": [
        "dividendo = int(input(\"Dividendo: \"))\n",
        "divisor = int(input(\"Divisor: \"))\n",
        "quociente = 0\n",
        "x = dividendo\n",
        "while x >= divisor:\n",
        "  x = x - divisor\n",
        "  quociente = quociente + 1\n",
        "resto = x\n",
        "print(f\"O resto de {dividendo} / {divisor} é {resto}\")"
      ],
      "metadata": {
        "colab": {
          "base_uri": "https://localhost:8080/"
        },
        "id": "NXkqkCPfMQhM",
        "outputId": "b2a5f7d6-fb0a-42d9-bfae-fa9df646ac0f"
      },
      "execution_count": null,
      "outputs": [
        {
          "output_type": "stream",
          "name": "stdout",
          "text": [
            "Dividendo: 12\n",
            "Divisor: 4\n",
            "O resto de 12 / 4 é 0\n"
          ]
        }
      ]
    },
    {
      "cell_type": "code",
      "source": [
        "\n"
      ],
      "metadata": {
        "id": "YjKtOWIqP0yS"
      },
      "execution_count": null,
      "outputs": []
    }
  ]
}