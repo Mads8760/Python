{
  "nbformat": 4,
  "nbformat_minor": 0,
  "metadata": {
    "colab": {
      "provenance": [],
      "include_colab_link": true
    },
    "kernelspec": {
      "name": "python3",
      "display_name": "Python 3"
    },
    "language_info": {
      "name": "python"
    }
  },
  "cells": [
    {
      "cell_type": "markdown",
      "metadata": {
        "id": "view-in-github",
        "colab_type": "text"
      },
      "source": [
        "<a href=\"https://colab.research.google.com/github/Mads8760/Python/blob/main/Estudos_em_Python.ipynb\" target=\"_parent\"><img src=\"https://colab.research.google.com/assets/colab-badge.svg\" alt=\"Open In Colab\"/></a>"
      ]
    },
    {
      "cell_type": "code",
      "execution_count": null,
      "metadata": {
        "colab": {
          "base_uri": "https://localhost:8080/"
        },
        "id": "5O75VQCleqIi",
        "outputId": "2a3a94cb-636c-4055-eec3-60b2a92f7c34"
      },
      "outputs": [
        {
          "output_type": "stream",
          "name": "stdout",
          "text": [
            "João\n"
          ]
        }
      ],
      "source": [
        "x, y, z = 10, 8, 5\n",
        "w = a = t = 5\n",
        "nome, idade, peso = \"João\", 20, 70.5\n",
        "print(nome)"
      ]
    },
    {
      "cell_type": "code",
      "source": [
        "lista = [\"Sandro\", 48, 1.78, 'm', True]\n",
        "print(lista[-1])\n",
        "tamanho = len(lista)\n",
        "print(tamanho)\n",
        "print(lista[tamanho-1])"
      ],
      "metadata": {
        "colab": {
          "base_uri": "https://localhost:8080/"
        },
        "id": "FhK24ccUgF2s",
        "outputId": "cb188c48-7f9e-4619-f2b7-65af6eccfc91"
      },
      "execution_count": null,
      "outputs": [
        {
          "output_type": "stream",
          "name": "stdout",
          "text": [
            "True\n",
            "5\n",
            "True\n"
          ]
        }
      ]
    },
    {
      "cell_type": "code",
      "source": [
        "pesos = []\n",
        "pesos.append(10)\n",
        "print(pesos)\n",
        "pesos.append(20)\n",
        "print(pesos)\n",
        "pesos.append(30)\n",
        "print(pesos)"
      ],
      "metadata": {
        "colab": {
          "base_uri": "https://localhost:8080/"
        },
        "id": "zmApAKj3iLyn",
        "outputId": "4acebb80-5b92-4735-b93b-e7015299b587"
      },
      "execution_count": null,
      "outputs": [
        {
          "output_type": "stream",
          "name": "stdout",
          "text": [
            "[10]\n",
            "[10, 20]\n",
            "[10, 20, 30]\n"
          ]
        }
      ]
    },
    {
      "cell_type": "code",
      "source": [
        "pesos = []\n",
        "peso = float(input(\"Digite o peso: \"))\n",
        "pesos.append(peso)\n",
        "print(pesos)\n",
        "print(type(peso))"
      ],
      "metadata": {
        "colab": {
          "base_uri": "https://localhost:8080/"
        },
        "id": "4Huf8uLeiqt8",
        "outputId": "c22f9082-3939-4d8e-e9f0-1a4edca898a1"
      },
      "execution_count": null,
      "outputs": [
        {
          "output_type": "stream",
          "name": "stdout",
          "text": [
            "Digite o peso: 54\n",
            "[54.0]\n",
            "<class 'float'>\n"
          ]
        }
      ]
    },
    {
      "cell_type": "code",
      "source": [
        "pesos = []\n",
        "while True:\n",
        "  pesos.append(float(input(\"Digite o peso: \")))\n",
        "  print(pesos)\n",
        "  if input(\"Deseja continuar? [s/n] \").lower() == \"n\":\n",
        "    break"
      ],
      "metadata": {
        "colab": {
          "base_uri": "https://localhost:8080/"
        },
        "id": "fZ_nirg0j5xo",
        "outputId": "99a5d74d-2e23-4580-e00c-c70b65b32a3e"
      },
      "execution_count": null,
      "outputs": [
        {
          "name": "stdout",
          "output_type": "stream",
          "text": [
            "Digite o peso: 52\n",
            "[52.0]\n",
            "Deseja continuar? [s/n] s\n",
            "Digite o peso: 65\n",
            "[52.0, 65.0]\n",
            "Deseja continuar? [s/n] s\n",
            "Digite o peso: 88\n",
            "[52.0, 65.0, 88.0]\n",
            "Deseja continuar? [s/n] n\n"
          ]
        }
      ]
    },
    {
      "cell_type": "code",
      "source": [
        "pesos = []\n",
        "while True:\n",
        "  pesos.append(float(input(\"Digite o peso ou [0] para sair: \")))\n",
        "  if pesos[-1] <= 0:\n",
        "    pesos.pop()\n",
        "    break\n",
        "print(pesos)"
      ],
      "metadata": {
        "colab": {
          "base_uri": "https://localhost:8080/"
        },
        "id": "bgonQ2_pl2Wx",
        "outputId": "245b754a-7538-44da-af35-de9522fc8b3c"
      },
      "execution_count": null,
      "outputs": [
        {
          "output_type": "stream",
          "name": "stdout",
          "text": [
            "Digite o peso ou [0] para sair: 50\n",
            "Digite o peso ou [0] para sair: 12\n",
            "Digite o peso ou [0] para sair: 56\n",
            "Digite o peso ou [0] para sair: 54\n",
            "Digite o peso ou [0] para sair: 52\n",
            "Digite o peso ou [0] para sair: 51\n",
            "Digite o peso ou [0] para sair: 53\n",
            "Digite o peso ou [0] para sair: 199\n",
            "Digite o peso ou [0] para sair: 0\n",
            "[50.0, 12.0, 56.0, 54.0, 52.0, 51.0, 53.0, 199.0]\n"
          ]
        }
      ]
    },
    {
      "cell_type": "code",
      "source": [
        "media = sum(pesos) / len(pesos)\n",
        "print(media)"
      ],
      "metadata": {
        "colab": {
          "base_uri": "https://localhost:8080/"
        },
        "id": "kAD2SWW0ngzc",
        "outputId": "614807fc-0835-4788-8137-b555892d9796"
      },
      "execution_count": null,
      "outputs": [
        {
          "output_type": "stream",
          "name": "stdout",
          "text": [
            "65.875\n"
          ]
        }
      ]
    },
    {
      "cell_type": "code",
      "source": [
        "import numpy as np\n",
        "pesos = sorted(pesos)\n",
        "print(pesos)\n",
        "mediana = np.median(pesos)\n",
        "print(mediana)"
      ],
      "metadata": {
        "colab": {
          "base_uri": "https://localhost:8080/"
        },
        "id": "qeyXH7I4oSYc",
        "outputId": "9f904f8a-a77c-4fe1-e837-b4a3b34ebe3c"
      },
      "execution_count": null,
      "outputs": [
        {
          "output_type": "stream",
          "name": "stdout",
          "text": [
            "[12.0, 50.0, 51.0, 52.0, 53.0, 54.0, 56.0, 199.0]\n",
            "52.5\n"
          ]
        }
      ]
    },
    {
      "cell_type": "code",
      "source": [
        "v_min = min(pesos)\n",
        "v_max = max(pesos)\n",
        "desvio = False\n",
        "\n",
        "if v_min > mediana*0.5 and v_max < mediana*1.5:\n",
        "  print(\"Sem desvio nos dados\")\n",
        "  desvio = False\n",
        "else:\n",
        "  print(\"Dados com desvio\")\n",
        "  desvio = True\n"
      ],
      "metadata": {
        "colab": {
          "base_uri": "https://localhost:8080/"
        },
        "id": "FXXxZoG3xezF",
        "outputId": "c7005ba0-df50-4ef1-ffeb-5cb64bb48c3d"
      },
      "execution_count": null,
      "outputs": [
        {
          "output_type": "stream",
          "name": "stdout",
          "text": [
            "Dados com desvio\n"
          ]
        }
      ]
    },
    {
      "cell_type": "code",
      "source": [
        "lista_nova = []\n",
        "if desvio:\n",
        "  for peso in pesos:\n",
        "    if peso < mediana*0.5 or peso > mediana*1.5:\n",
        "      print(peso)\n",
        "    else:\n",
        "      lista_nova.append(peso)\n",
        "print(lista_nova)\n",
        "#"
      ],
      "metadata": {
        "colab": {
          "base_uri": "https://localhost:8080/"
        },
        "id": "PU1xqo6a0y5I",
        "outputId": "8bd7df43-787a-4e78-ebfb-2646e1f62f0d"
      },
      "execution_count": null,
      "outputs": [
        {
          "output_type": "stream",
          "name": "stdout",
          "text": [
            "12.0\n",
            "199.0\n",
            "[50.0, 51.0, 52.0, 53.0, 54.0, 56.0]\n"
          ]
        }
      ]
    },
    {
      "cell_type": "code",
      "source": [
        "media_nova = sum(lista_nova) / len(lista_nova)\n",
        "print(media_nova)"
      ],
      "metadata": {
        "colab": {
          "base_uri": "https://localhost:8080/"
        },
        "id": "D4-KAdqT1wva",
        "outputId": "af3cdab9-7e50-460a-dc2a-a7bc94333123"
      },
      "execution_count": null,
      "outputs": [
        {
          "output_type": "stream",
          "name": "stdout",
          "text": [
            "52.666666666666664\n"
          ]
        }
      ]
    },
    {
      "cell_type": "code",
      "source": [
        "frase = \"todo corno é moco\"\n",
        "print(frase)\n",
        "print(frase.upper())\n",
        "print(frase.lower())\n",
        "print(frase.capitalize())\n",
        "print(frase.title())"
      ],
      "metadata": {
        "colab": {
          "base_uri": "https://localhost:8080/"
        },
        "id": "LK7LejDJ6HRG",
        "outputId": "a58f809d-f4c8-4473-eabd-95c63d80871b"
      },
      "execution_count": null,
      "outputs": [
        {
          "output_type": "stream",
          "name": "stdout",
          "text": [
            "todo corno é moco\n",
            "TODO CORNO É MOCO\n",
            "todo corno é moco\n",
            "Todo corno é moco\n",
            "Todo Corno É Moco\n"
          ]
        }
      ]
    },
    {
      "cell_type": "code",
      "source": [
        "palavras = frase.split()\n",
        "print(palavras)"
      ],
      "metadata": {
        "colab": {
          "base_uri": "https://localhost:8080/"
        },
        "id": "O6D9FnAR6yfz",
        "outputId": "043e8e24-66a1-4186-b6e7-f6e6430ba3ca"
      },
      "execution_count": null,
      "outputs": [
        {
          "output_type": "stream",
          "name": "stdout",
          "text": [
            "['todo', 'corno', 'é', 'moco']\n"
          ]
        }
      ]
    },
    {
      "cell_type": "code",
      "source": [
        "lista_compra = \"bolo,pao de queijo, leite, ovos\"\n",
        "lista_compra = lista_compra.split(\",\")\n",
        "print(lista_compra)"
      ],
      "metadata": {
        "colab": {
          "base_uri": "https://localhost:8080/"
        },
        "id": "7YDLW_d-7F3e",
        "outputId": "b06090e9-33dc-4fcb-f024-95e4ead18e67"
      },
      "execution_count": null,
      "outputs": [
        {
          "output_type": "stream",
          "name": "stdout",
          "text": [
            "['bolo', 'pao de queijo', ' leite', ' ovos']\n"
          ]
        }
      ]
    },
    {
      "cell_type": "code",
      "source": [
        "palavra = \" pao de queijo\"\n",
        "palavra_limpa = palavra.strip()\n",
        "print(f\"A plavra limpa e {palavra_limpa}\")\n",
        "#"
      ],
      "metadata": {
        "colab": {
          "base_uri": "https://localhost:8080/"
        },
        "id": "hDbyWgLG7-MC",
        "outputId": "79b74e35-e75c-44e7-ad75-c59b6098d2d2"
      },
      "execution_count": null,
      "outputs": [
        {
          "output_type": "stream",
          "name": "stdout",
          "text": [
            "A plavra limpa e pao de queijo\n"
          ]
        }
      ]
    },
    {
      "cell_type": "code",
      "source": [
        "for i in range(len(lista_compra)):\n",
        "  lista_compra[i] = lista_compra[i].strip().capitalize()\n",
        "print(lista_compra)\n",
        "#"
      ],
      "metadata": {
        "colab": {
          "base_uri": "https://localhost:8080/"
        },
        "id": "o3vU7DYk9B8Z",
        "outputId": "8278f42c-beab-4e0f-caa2-d44460c1d587"
      },
      "execution_count": null,
      "outputs": [
        {
          "output_type": "stream",
          "name": "stdout",
          "text": [
            "['Bolo1', 'Pao de queijo1', 'Leite1', 'Ovos1']\n"
          ]
        }
      ]
    }
  ]
}