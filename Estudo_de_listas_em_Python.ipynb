{
  "nbformat": 4,
  "nbformat_minor": 0,
  "metadata": {
    "colab": {
      "provenance": [],
      "authorship_tag": "ABX9TyNLq7pBKfHkPops2ZfiifQu",
      "include_colab_link": true
    },
    "kernelspec": {
      "name": "python3",
      "display_name": "Python 3"
    },
    "language_info": {
      "name": "python"
    }
  },
  "cells": [
    {
      "cell_type": "markdown",
      "metadata": {
        "id": "view-in-github",
        "colab_type": "text"
      },
      "source": [
        "<a href=\"https://colab.research.google.com/github/Mads8760/Python/blob/main/Estudo_de_listas_em_Python.ipynb\" target=\"_parent\"><img src=\"https://colab.research.google.com/assets/colab-badge.svg\" alt=\"Open In Colab\"/></a>"
      ]
    },
    {
      "cell_type": "code",
      "execution_count": null,
      "metadata": {
        "colab": {
          "base_uri": "https://localhost:8080/"
        },
        "id": "vXLoQreQUVWu",
        "outputId": "78a8e369-6f0b-4cac-f9e2-5a467d6bad27"
      },
      "outputs": [
        {
          "output_type": "stream",
          "name": "stdout",
          "text": [
            "4\n",
            "tablet\n",
            "fones de ouvido\n",
            "['celular', 'mouse', 'fones de ouvido', 'tablet', 'smartwatch']\n",
            "1\n",
            "2\n",
            "['celular', 'mouse', 'kindle', 'fones de ouvido', 'tablet', 'smartwatch']\n",
            "['celular', 'mouse', 'kindle', 'fones de ouvido', 'tablet']\n",
            "['tablet', 'fones de ouvido', 'kindle', 'mouse', 'celular']\n",
            "celular\n",
            "tablet\n"
          ]
        }
      ],
      "source": [
        "eletronicos = [\"celular\", \"mouse\", \"fones de ouvido\", \"tablet\"]\n",
        "tam_lista = len(eletronicos)\n",
        "print(tam_lista)\n",
        "print(eletronicos[tam_lista - 1]) # imprimi o ultimo item da lista\n",
        "print(eletronicos[2]) # imprimi itens atraves de seus itens\n",
        "\n",
        "eletronicos.append(\"smartwatch\") # coloca um item na ultima posição\n",
        "print(eletronicos)\n",
        "print(eletronicos.count(\"tablet\"))\n",
        "print(eletronicos.index(\"fones de ouvido\"))\n",
        "eletronicos.insert(2, \"kindle\") # insere um item em um index especifico\n",
        "print(eletronicos)\n",
        "eletronicos.remove(\"smartwatch\") # remove um item escolhido\n",
        "print(eletronicos)\n",
        "eletronicos.reverse() # inverte os itens\n",
        "print(eletronicos)\n",
        "print(min(eletronicos))\n",
        "print(max(eletronicos))\n"
      ]
    },
    {
      "cell_type": "code",
      "source": [
        "import math\n",
        "soma = math.fsum ([36, 20.7 , 72.5])\n",
        "print(\"A soma é : \",  soma)\n",
        "\n",
        "raiz = math.isqrt(124)\n",
        "print(\"A raiz é : \", raiz)\n",
        "\n",
        "potencia = math.pow(2, 12)\n",
        "print(\"A potencia é: \", potencia)\n",
        "\n"
      ],
      "metadata": {
        "colab": {
          "base_uri": "https://localhost:8080/"
        },
        "id": "crPB2ssxZwjH",
        "outputId": "9ee3e3b2-a66e-42b8-9e76-8aaccf9f498e"
      },
      "execution_count": null,
      "outputs": [
        {
          "output_type": "stream",
          "name": "stdout",
          "text": [
            "A soma é :  129.2\n",
            "A raiz é :  11\n",
            "A potencia é:  4096.0\n"
          ]
        }
      ]
    },
    {
      "cell_type": "code",
      "source": [
        "s1 = \"curso\"\n",
        "s2 = \"de\"\n",
        "s3 = \"Python\"\n",
        "\n",
        "soma = s1 + s2 + s3\n",
        "\n",
        "print(soma)\n",
        "\n"
      ],
      "metadata": {
        "colab": {
          "base_uri": "https://localhost:8080/"
        },
        "id": "ZUFpVC5LP2A8",
        "outputId": "6b685c54-2171-4b95-f9ac-f3a91d929ac1"
      },
      "execution_count": null,
      "outputs": [
        {
          "output_type": "stream",
          "name": "stdout",
          "text": [
            "cursodePython\n"
          ]
        }
      ]
    },
    {
      "cell_type": "code",
      "source": [
        "s = [0,1,2,3,4,5,6,7,8,9]\n",
        "print(s)\n",
        "s.reverse()\n",
        "print(s)"
      ],
      "metadata": {
        "colab": {
          "base_uri": "https://localhost:8080/"
        },
        "id": "XLcNfFjVQVTr",
        "outputId": "f9f5fad1-064b-4fc1-9837-13b0daa65dd7"
      },
      "execution_count": null,
      "outputs": [
        {
          "output_type": "stream",
          "name": "stdout",
          "text": [
            "[0, 1, 2, 3, 4, 5, 6, 7, 8, 9]\n",
            "[9, 8, 7, 6, 5, 4, 3, 2, 1, 0]\n"
          ]
        }
      ]
    },
    {
      "cell_type": "code",
      "source": [
        "palavras = [\"bola\", \"bila\",\"cadeira\",\"mesa\",\"banco\"]\n",
        "tam_palavras = (len(palavras))\n",
        "print(tam_palavras)\n",
        "print(palavras[0])\n",
        "print(palavras[tam_palavras - 1])\n"
      ],
      "metadata": {
        "colab": {
          "base_uri": "https://localhost:8080/"
        },
        "id": "e3oVLRimQstS",
        "outputId": "4b05c7ce-8968-40cf-d8b9-933e7d2f6be0"
      },
      "execution_count": null,
      "outputs": [
        {
          "output_type": "stream",
          "name": "stdout",
          "text": [
            "5\n",
            "bola\n",
            "banco\n"
          ]
        }
      ]
    },
    {
      "cell_type": "code",
      "source": [
        "notas = [9,7,7,10,3,9,6,6,2]\n",
        "print(len(notas))\n",
        "print(7 in notas)\n",
        "print(notas.count(7))\n",
        "print(notas.index(7))\n",
        "\n",
        "tam_notas = len(notas)\n",
        "print(tam_notas)\n",
        "\n",
        "print(notas[tam_notas - 1])\n",
        "print(notas.index(2))\n",
        "notas.remove(2)\n",
        "print(notas)\n",
        "notas.append(4)\n",
        "print(notas)\n",
        "print(max(notas))\n"
      ],
      "metadata": {
        "colab": {
          "base_uri": "https://localhost:8080/"
        },
        "id": "3RD6PM2xRwal",
        "outputId": "00abd1b7-d8d6-46f6-9677-6aa94d5b96fc"
      },
      "execution_count": null,
      "outputs": [
        {
          "output_type": "stream",
          "name": "stdout",
          "text": [
            "9\n",
            "True\n",
            "2\n",
            "1\n",
            "9\n",
            "2\n",
            "8\n",
            "[9, 7, 7, 10, 3, 9, 6, 6]\n",
            "[9, 7, 7, 10, 3, 9, 6, 6, 4]\n",
            "10\n"
          ]
        }
      ]
    },
    {
      "cell_type": "code",
      "source": [
        "notas = [9, 7, 7, 10, 3, 9, 6, 6, 2]\n",
        "\n",
        "indices_notas_7 = [indice for indice, nota in enumerate(notas) if nota == 7]\n",
        "\n",
        "print(\"Índices das notas 7:\", indices_notas_7)\n"
      ],
      "metadata": {
        "id": "Gb1OaP8pYRIQ",
        "outputId": "4c2e4abd-238c-429d-bd11-71cf77fc6e07",
        "colab": {
          "base_uri": "https://localhost:8080/"
        }
      },
      "execution_count": null,
      "outputs": [
        {
          "output_type": "stream",
          "name": "stdout",
          "text": [
            "Índices das notas 7: [1, 2]\n"
          ]
        }
      ]
    },
    {
      "cell_type": "code",
      "source": [
        "for h_trabalhada in range(14,19):\n",
        "  print(h_trabalhada)"
      ],
      "metadata": {
        "colab": {
          "base_uri": "https://localhost:8080/"
        },
        "id": "FBngFVVH23zo",
        "outputId": "f279e969-e495-44b9-af62-ce22552b5ecc"
      },
      "execution_count": null,
      "outputs": [
        {
          "output_type": "stream",
          "name": "stdout",
          "text": [
            "14\n",
            "15\n",
            "16\n",
            "17\n",
            "18\n"
          ]
        }
      ]
    },
    {
      "cell_type": "code",
      "source": [
        "instrumentos = [\"Guitarra\",\"Violao\",\"Ukulele\",\"Baixo\",\"Bateria\",\"Flauta Doce\"]\n",
        "for i in range(len(instrumentos)):\n",
        "  print(instrumentos[i])\n"
      ],
      "metadata": {
        "colab": {
          "base_uri": "https://localhost:8080/"
        },
        "id": "shC00TZ-3rN3",
        "outputId": "5d5e9463-2b20-4037-bddd-769d4ef86652"
      },
      "execution_count": null,
      "outputs": [
        {
          "output_type": "stream",
          "name": "stdout",
          "text": [
            "Guitarra\n",
            "Violao\n",
            "Ukulele\n",
            "Baixo\n",
            "Bateria\n",
            "Flauta Doce\n"
          ]
        }
      ]
    },
    {
      "cell_type": "code",
      "source": [
        "instrumentos.append(\"Teclado\")\n"
      ],
      "metadata": {
        "id": "UV24aRTj5O33"
      },
      "execution_count": null,
      "outputs": []
    },
    {
      "cell_type": "code",
      "source": [
        "for instrumento in instrumentos:\n",
        "  print(instrumento)"
      ],
      "metadata": {
        "colab": {
          "base_uri": "https://localhost:8080/"
        },
        "id": "6qktdEuJ5YjC",
        "outputId": "d4bc1fd6-3c6a-447b-d6d0-2f6ea06b64ab"
      },
      "execution_count": null,
      "outputs": [
        {
          "output_type": "stream",
          "name": "stdout",
          "text": [
            "Guitarra\n",
            "Violao\n",
            "Ukulele\n",
            "Baixo\n",
            "Bateria\n",
            "Flauta Doce\n",
            "Teclado\n",
            "Teclado\n",
            "Teclado\n",
            "Teclado\n"
          ]
        }
      ]
    },
    {
      "cell_type": "code",
      "source": [
        "instrumentos[6] = \"Sanfona\"\n",
        "for instrumento in instrumentos:\n",
        "  print(instrumento)"
      ],
      "metadata": {
        "colab": {
          "base_uri": "https://localhost:8080/"
        },
        "id": "7ls2FFxx6Ezq",
        "outputId": "7d9f4b81-ba1b-4b52-e3c1-ed48ece6b276"
      },
      "execution_count": null,
      "outputs": [
        {
          "output_type": "stream",
          "name": "stdout",
          "text": [
            "Guitarra\n",
            "Violao\n",
            "Ukulele\n",
            "Baixo\n",
            "Bateria\n",
            "Flauta Doce\n",
            "Sanfona\n",
            "Teclado\n",
            "Teclado\n",
            "Teclado\n"
          ]
        }
      ]
    },
    {
      "cell_type": "code",
      "source": [
        "x = 0\n",
        "for x in range(0,20,4):\n",
        "  print(x)"
      ],
      "metadata": {
        "colab": {
          "base_uri": "https://localhost:8080/"
        },
        "id": "qRAalm1t6m5F",
        "outputId": "3f569fbf-4193-4021-d3e8-55fcb7ea6ca0"
      },
      "execution_count": null,
      "outputs": [
        {
          "output_type": "stream",
          "name": "stdout",
          "text": [
            "0\n",
            "4\n",
            "8\n",
            "12\n",
            "16\n"
          ]
        }
      ]
    },
    {
      "cell_type": "code",
      "source": [
        "x = 0\n",
        "for x in range(0,10,2\n",
        "\n",
        "\n",
        "               ):\n",
        "  print(x)"
      ],
      "metadata": {
        "colab": {
          "base_uri": "https://localhost:8080/"
        },
        "id": "SA7ciWod618H",
        "outputId": "59c98c86-01ee-4820-b2bb-b2a7a1009b64"
      },
      "execution_count": null,
      "outputs": [
        {
          "output_type": "stream",
          "name": "stdout",
          "text": [
            "0\n",
            "2\n",
            "4\n",
            "6\n",
            "8\n"
          ]
        }
      ]
    },
    {
      "cell_type": "markdown",
      "source": [
        "Laço de repetição WHILE"
      ],
      "metadata": {
        "id": "VzSJQyCE7ZBN"
      }
    },
    {
      "cell_type": "code",
      "source": [
        "num = 0\n",
        "while num <= 10:\n",
        "  print(\"O numero é : \", num)\n",
        "  num = num + 1\n",
        "print(\"O numero é maior que 10 :  \", num)"
      ],
      "metadata": {
        "colab": {
          "base_uri": "https://localhost:8080/"
        },
        "id": "QKSKalTx7dCS",
        "outputId": "0a0f2005-9cd0-4b40-e6ec-2c64d57cf8c3"
      },
      "execution_count": null,
      "outputs": [
        {
          "output_type": "stream",
          "name": "stdout",
          "text": [
            "O numero é :  0\n",
            "O numero é :  1\n",
            "O numero é :  2\n",
            "O numero é :  3\n",
            "O numero é :  4\n",
            "O numero é :  5\n",
            "O numero é :  6\n",
            "O numero é :  7\n",
            "O numero é :  8\n",
            "O numero é :  9\n",
            "O numero é :  10\n",
            "O numero é maior que 10 :   11\n"
          ]
        }
      ]
    },
    {
      "cell_type": "code",
      "source": [
        "while int(input(\" Digite um numero: \")) > 10:\n",
        "  print(\"O numero digitado é maior que 10: \")\n",
        "print(\"O numero digitado é menor que 10: \")"
      ],
      "metadata": {
        "colab": {
          "base_uri": "https://localhost:8080/"
        },
        "id": "NrdNSMrX8SIX",
        "outputId": "d4aa8205-bf51-4165-bb3b-e58b089054f9"
      },
      "execution_count": null,
      "outputs": [
        {
          "output_type": "stream",
          "name": "stdout",
          "text": [
            " Digite um numero: 11\n",
            "O numero digitado é maior que 10: \n",
            " Digite um numero: 18\n",
            "O numero digitado é maior que 10: \n",
            " Digite um numero: 19\n",
            "O numero digitado é maior que 10: \n",
            " Digite um numero: 20\n",
            "O numero digitado é maior que 10: \n",
            " Digite um numero: 0\n",
            "O numero digitado é menor que 10: \n"
          ]
        }
      ]
    },
    {
      "cell_type": "code",
      "source": [
        "num = 0\n",
        "while True:\n",
        "  print(num)\n",
        "  num = num + 1\n",
        "  cont = input(\"Deseja continuar (s/n)? \")\n",
        "  if cont == \"n\":\n",
        "    print(\"Encerrando o codigo!\")\n",
        "    break\n",
        "print(\"Codigo encerrado!\")"
      ],
      "metadata": {
        "colab": {
          "base_uri": "https://localhost:8080/"
        },
        "id": "nv8Il7s69xgG",
        "outputId": "e23bee16-c2bb-4289-d2e0-ff151d68e3fd"
      },
      "execution_count": null,
      "outputs": [
        {
          "output_type": "stream",
          "name": "stdout",
          "text": [
            "0\n",
            "Deseja continuar (s/n)? s\n",
            "1\n",
            "Deseja continuar (s/n)? s\n",
            "2\n",
            "Deseja continuar (s/n)? s\n",
            "3\n",
            "Deseja continuar (s/n)? s\n",
            "4\n",
            "Deseja continuar (s/n)? s\n",
            "5\n",
            "Deseja continuar (s/n)? s\n",
            "6\n",
            "Deseja continuar (s/n)? s\n",
            "7\n",
            "Deseja continuar (s/n)? s\n",
            "8\n",
            "Deseja continuar (s/n)? s\n",
            "9\n",
            "Deseja continuar (s/n)? s\n",
            "10\n",
            "Deseja continuar (s/n)? n\n",
            "Encerrando o codigo!\n",
            "Codigo encerrado!\n"
          ]
        }
      ]
    },
    {
      "cell_type": "markdown",
      "source": [
        "Estudo de **Função**"
      ],
      "metadata": {
        "id": "QK387oNwFgIL"
      }
    },
    {
      "cell_type": "code",
      "source": [
        "def calcular(a, b):\n",
        "  return a + b\n",
        "\n",
        "x = int(input(\"Digite um numero: \"))\n",
        "y = int(input(\"Digite outro numero: \"))\n",
        "resultado = calcular(x,y)\n",
        "print(\"O resultado é: \", resultado)\n"
      ],
      "metadata": {
        "colab": {
          "base_uri": "https://localhost:8080/"
        },
        "id": "SFa-fne7Fkc-",
        "outputId": "6bb6a599-e216-4121-eb6b-97eb4d089628"
      },
      "execution_count": null,
      "outputs": [
        {
          "output_type": "stream",
          "name": "stdout",
          "text": [
            "Digite um numero: 5\n",
            "Digite outro numero: 108\n",
            "O resultado é:  113\n"
          ]
        }
      ]
    },
    {
      "cell_type": "code",
      "source": [
        "def calcular(a, op, b):\n",
        "  if op == \"+\":\n",
        "    resultado = a + b\n",
        "  elif op == \"-\":\n",
        "    resultado = a - b\n",
        "  elif op == \"x\":\n",
        "    resultado = a * b\n",
        "  elif op == \"/\":\n",
        "    resultado = a/b\n",
        "  else:\n",
        "    print(\"Operação Invalida!\")\n",
        "\n",
        "  return resultado\n",
        "\n",
        "num1 = int(input(\"Digite um numero: \"))\n",
        "op = input(\"Digite a operação desejada: (+, -, x, /): \")\n",
        "\n",
        "if op == \"/\":\n",
        "  num2 = int(input(\"Digite outro numero: \"))\n",
        "  while num2 == 0:\n",
        "    num2 = float(input(\"Digite outro numero diferente de zero: \"))\n",
        "\n",
        "resultado = calcular(num1, op, num2)\n",
        "print(\"O resultado é: \", resultado)\n"
      ],
      "metadata": {
        "colab": {
          "base_uri": "https://localhost:8080/"
        },
        "id": "b1bqztDpGT6-",
        "outputId": "1515f02b-ed6e-428a-fa15-d24cb74c9b80"
      },
      "execution_count": null,
      "outputs": [
        {
          "output_type": "stream",
          "name": "stdout",
          "text": [
            "Digite um numero: 7\n",
            "Digite a operação desejada: (+, -, x, /): /\n",
            "Digite outro numero: 0\n",
            "Digite outro numero diferente de zero: 0\n",
            "Digite outro numero diferente de zero: 0\n",
            "Digite outro numero diferente de zero: 0\n",
            "Digite outro numero diferente de zero: 9\n",
            "O resultado é:  0.7777777777777778\n"
          ]
        }
      ]
    },
    {
      "cell_type": "code",
      "source": [
        "def aprovar(nota1,nota2):\n",
        "  if nota1 or nota2 == 7.0:\n",
        "    media = (nota1 + nota2)/2\n",
        "    print(\"Aluno aprovado\")\n",
        "  if nota1 and nota2 == 5.0:\n",
        "     media = (nota1 + nota2)/2\n",
        "     print(\"Segunda chamada\")\n",
        "  if nota1 and nota2 == 4.0:\n",
        "     media = (nota1 + nota2)/2\n",
        "     print(\"Aluno de recuperação!\")\n",
        "\n",
        "     return media\n",
        "\n",
        "nota1 = float(input(\"Digite a primeira nota: \"))\n",
        "nota2 = float(input(\"Digite a segunda nota: \"))\n",
        "\n",
        "resultado = aprovar(nota1, nota2)\n",
        "\n"
      ],
      "metadata": {
        "colab": {
          "base_uri": "https://localhost:8080/"
        },
        "id": "k7PTyBRTJ9rH",
        "outputId": "79b310b9-6dae-4aa9-d3e3-3a777ce04942"
      },
      "execution_count": null,
      "outputs": [
        {
          "output_type": "stream",
          "name": "stdout",
          "text": [
            "Digite a primeira nota: 7\n",
            "Digite a segunda nota: 8\n",
            "Aluno aprovado\n"
          ]
        }
      ]
    },
    {
      "cell_type": "code",
      "source": [],
      "metadata": {
        "id": "ZjRtdDjDNUOW"
      },
      "execution_count": null,
      "outputs": []
    }
  ]
}