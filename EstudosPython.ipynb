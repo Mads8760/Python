{
  "nbformat": 4,
  "nbformat_minor": 0,
  "metadata": {
    "colab": {
      "provenance": [],
      "gpuType": "T4",
      "authorship_tag": "ABX9TyNm36CveDrSU4YbvwYKLqyr",
      "include_colab_link": true
    },
    "kernelspec": {
      "name": "python3",
      "display_name": "Python 3"
    },
    "language_info": {
      "name": "python"
    },
    "accelerator": "GPU"
  },
  "cells": [
    {
      "cell_type": "markdown",
      "metadata": {
        "id": "view-in-github",
        "colab_type": "text"
      },
      "source": [
        "<a href=\"https://colab.research.google.com/github/Mads8760/Python/blob/main/EstudosPython.ipynb\" target=\"_parent\"><img src=\"https://colab.research.google.com/assets/colab-badge.svg\" alt=\"Open In Colab\"/></a>"
      ]
    },
    {
      "cell_type": "code",
      "execution_count": null,
      "metadata": {
        "id": "QnbMhyzUHjxJ"
      },
      "outputs": [],
      "source": []
    },
    {
      "cell_type": "markdown",
      "source": [
        "# Estudos de Váriaveis"
      ],
      "metadata": {
        "id": "PAmutLLfHpUC"
      }
    },
    {
      "cell_type": "code",
      "source": [
        "Frase = 'Esta é uma frase' #String\n",
        "type(Frase)\n",
        "\n",
        "a = 4 #Inteiro\n",
        "type(a)\n",
        "\n",
        "x = 2.5 #Float\n",
        "type(x)\n",
        "\n",
        "Q = True #Boleano\n",
        "type(Q)\n",
        "\n",
        "S = 1 + 2j #Complexo\n",
        "type(S)"
      ],
      "metadata": {
        "colab": {
          "base_uri": "https://localhost:8080/"
        },
        "id": "KLYGLURmHs5N",
        "outputId": "5ae8f340-d200-43f8-80b1-15f8251a4e0f"
      },
      "execution_count": null,
      "outputs": [
        {
          "output_type": "execute_result",
          "data": {
            "text/plain": [
              "complex"
            ]
          },
          "metadata": {},
          "execution_count": 2
        }
      ]
    },
    {
      "cell_type": "markdown",
      "source": [
        "Váriaveis convertidas"
      ],
      "metadata": {
        "id": "RdcPfpDKIz8r"
      }
    },
    {
      "cell_type": "code",
      "source": [
        "C = str(19)\n",
        "C\n",
        "\n",
        "x = int(C)\n",
        "C"
      ],
      "metadata": {
        "colab": {
          "base_uri": "https://localhost:8080/",
          "height": 35
        },
        "id": "zm548-TxI45I",
        "outputId": "ea18017a-f629-4f06-e6d1-7d7d7fa30824"
      },
      "execution_count": null,
      "outputs": [
        {
          "output_type": "execute_result",
          "data": {
            "text/plain": [
              "'19'"
            ],
            "application/vnd.google.colaboratory.intrinsic+json": {
              "type": "string"
            }
          },
          "metadata": {},
          "execution_count": 3
        }
      ]
    },
    {
      "cell_type": "code",
      "source": [
        "x = float(3)\n",
        "a = str(x)\n",
        "x = x + 1\n",
        "a\n",
        "print(\"Valor = \" + a)\n",
        "print (\"Valor = \", x)\n"
      ],
      "metadata": {
        "colab": {
          "base_uri": "https://localhost:8080/"
        },
        "id": "KK2fnpkAJlA0",
        "outputId": "a1c72401-49da-4288-a450-17e465b7c131"
      },
      "execution_count": null,
      "outputs": [
        {
          "output_type": "stream",
          "name": "stdout",
          "text": [
            "Valor = 3.0\n",
            "Valor =  4.0\n"
          ]
        }
      ]
    },
    {
      "cell_type": "code",
      "source": [
        "x = int('11', base = 3) #Valores em base específica\n",
        "x\n"
      ],
      "metadata": {
        "colab": {
          "base_uri": "https://localhost:8080/"
        },
        "id": "LbkYAwY1ME6b",
        "outputId": "5c949e45-6bb7-444d-cdeb-b23bf9cb365e"
      },
      "execution_count": null,
      "outputs": [
        {
          "output_type": "execute_result",
          "data": {
            "text/plain": [
              "4"
            ]
          },
          "metadata": {},
          "execution_count": 5
        }
      ]
    },
    {
      "cell_type": "code",
      "source": [
        "Frase = \" Uma frase\" #Separação das palavras\n",
        "Frase\n",
        "Frase.split()\n",
        "a, b = Frase.split()\n",
        "a\n",
        "b"
      ],
      "metadata": {
        "colab": {
          "base_uri": "https://localhost:8080/",
          "height": 35
        },
        "id": "1GYC3AKsMmnx",
        "outputId": "1a39c143-b8fe-42dc-b2a2-9128443df3af"
      },
      "execution_count": null,
      "outputs": [
        {
          "output_type": "execute_result",
          "data": {
            "text/plain": [
              "'frase'"
            ],
            "application/vnd.google.colaboratory.intrinsic+json": {
              "type": "string"
            }
          },
          "metadata": {},
          "execution_count": 7
        }
      ]
    },
    {
      "cell_type": "code",
      "source": [
        "import math\n",
        "math.sqrt(25)\n"
      ],
      "metadata": {
        "colab": {
          "base_uri": "https://localhost:8080/"
        },
        "id": "tB9RUEZuaK_J",
        "outputId": "6d1be4e0-8259-40c2-e804-66e159236bbf"
      },
      "execution_count": null,
      "outputs": [
        {
          "output_type": "execute_result",
          "data": {
            "text/plain": [
              "5.0"
            ]
          },
          "metadata": {},
          "execution_count": 8
        }
      ]
    },
    {
      "cell_type": "code",
      "source": [
        "from math import cos, pi\n",
        "cos(pi)"
      ],
      "metadata": {
        "colab": {
          "base_uri": "https://localhost:8080/"
        },
        "id": "JNXLLbvlbwj7",
        "outputId": "2d2e1486-0068-42d0-be4a-ab209e11577d"
      },
      "execution_count": null,
      "outputs": [
        {
          "output_type": "execute_result",
          "data": {
            "text/plain": [
              "-1.0"
            ]
          },
          "metadata": {},
          "execution_count": 9
        }
      ]
    },
    {
      "cell_type": "code",
      "source": [
        "pip install pip"
      ],
      "metadata": {
        "colab": {
          "base_uri": "https://localhost:8080/"
        },
        "id": "KC0gjMr7ca-9",
        "outputId": "2902b0e4-c6b6-4deb-9aad-05348461c492"
      },
      "execution_count": null,
      "outputs": [
        {
          "output_type": "stream",
          "name": "stdout",
          "text": [
            "Requirement already satisfied: pip in /usr/local/lib/python3.10/dist-packages (23.1.2)\n"
          ]
        }
      ]
    },
    {
      "cell_type": "code",
      "source": [
        "frase = input(\"Digite uma frase \\n\")"
      ],
      "metadata": {
        "colab": {
          "base_uri": "https://localhost:8080/"
        },
        "id": "L-Kab2eDdJWn",
        "outputId": "0e345eca-953a-40d9-dd35-2d2317705e83"
      },
      "execution_count": null,
      "outputs": [
        {
          "name": "stdout",
          "output_type": "stream",
          "text": [
            "Digite uma frase \n",
            "ai dentu\n"
          ]
        }
      ]
    },
    {
      "cell_type": "markdown",
      "source": [
        "Lembre-se que o número não é entre aspas e as frases sim!"
      ],
      "metadata": {
        "id": "9Jxvohm8eEFV"
      }
    },
    {
      "cell_type": "code",
      "source": [
        "print(1, \"mais um\", 1, \"igual a\", 2)"
      ],
      "metadata": {
        "colab": {
          "base_uri": "https://localhost:8080/"
        },
        "id": "nFDM1_G8d1rl",
        "outputId": "00aa0fc8-4b67-48db-f467-0eab2369f4e6"
      },
      "execution_count": null,
      "outputs": [
        {
          "output_type": "stream",
          "name": "stdout",
          "text": [
            "1 mais um 1 igual a 2\n"
          ]
        }
      ]
    },
    {
      "cell_type": "markdown",
      "source": [
        "Estruturas de Repetição\n",
        "While e For"
      ],
      "metadata": {
        "id": "ywhQ9K8tNJqN"
      }
    },
    {
      "cell_type": "code",
      "source": [
        "i = 0\n",
        "while i <= 10 :\n",
        "  print(i)\n",
        "  i += 1\n",
        "\n",
        "for i in [0,1,2,3,4,5,6,7,8,9]:\n",
        "  print(i)\n",
        "\n",
        "for i in range(100):\n",
        "  print(i)\n"
      ],
      "metadata": {
        "id": "OvBgE4OiL-Lx",
        "colab": {
          "base_uri": "https://localhost:8080/"
        },
        "outputId": "45bd5a4a-e53d-4617-af9a-ac7d05468da4"
      },
      "execution_count": null,
      "outputs": [
        {
          "output_type": "stream",
          "name": "stdout",
          "text": [
            "0\n",
            "1\n",
            "2\n",
            "3\n",
            "4\n",
            "5\n",
            "6\n",
            "7\n",
            "8\n",
            "9\n",
            "10\n",
            "0\n",
            "1\n",
            "2\n",
            "3\n",
            "4\n",
            "5\n",
            "6\n",
            "7\n",
            "8\n",
            "9\n",
            "0\n",
            "1\n",
            "2\n",
            "3\n",
            "4\n",
            "5\n",
            "6\n",
            "7\n",
            "8\n",
            "9\n",
            "10\n",
            "11\n",
            "12\n",
            "13\n",
            "14\n",
            "15\n",
            "16\n",
            "17\n",
            "18\n",
            "19\n",
            "20\n",
            "21\n",
            "22\n",
            "23\n",
            "24\n",
            "25\n",
            "26\n",
            "27\n",
            "28\n",
            "29\n",
            "30\n",
            "31\n",
            "32\n",
            "33\n",
            "34\n",
            "35\n",
            "36\n",
            "37\n",
            "38\n",
            "39\n",
            "40\n",
            "41\n",
            "42\n",
            "43\n",
            "44\n",
            "45\n",
            "46\n",
            "47\n",
            "48\n",
            "49\n",
            "50\n",
            "51\n",
            "52\n",
            "53\n",
            "54\n",
            "55\n",
            "56\n",
            "57\n",
            "58\n",
            "59\n",
            "60\n",
            "61\n",
            "62\n",
            "63\n",
            "64\n",
            "65\n",
            "66\n",
            "67\n",
            "68\n",
            "69\n",
            "70\n",
            "71\n",
            "72\n",
            "73\n",
            "74\n",
            "75\n",
            "76\n",
            "77\n",
            "78\n",
            "79\n",
            "80\n",
            "81\n",
            "82\n",
            "83\n",
            "84\n",
            "85\n",
            "86\n",
            "87\n",
            "88\n",
            "89\n",
            "90\n",
            "91\n",
            "92\n",
            "93\n",
            "94\n",
            "95\n",
            "96\n",
            "97\n",
            "98\n",
            "99\n"
          ]
        }
      ]
    },
    {
      "cell_type": "code",
      "source": [
        "x = int(input('digite um valor: '))\n",
        "if x>10:\n",
        "  print('x maior que 10')\n",
        "elif x<=10 and x>=5:\n",
        "  print('x entre 5 e 10')\n",
        "else:\n",
        "  print('x menor que 5')"
      ],
      "metadata": {
        "colab": {
          "base_uri": "https://localhost:8080/"
        },
        "id": "Xt2B9xIkXwZ1",
        "outputId": "b91c283b-1178-4c06-f5fd-3077e74a77f6"
      },
      "execution_count": null,
      "outputs": [
        {
          "output_type": "stream",
          "name": "stdout",
          "text": [
            "digite um valor: 6\n",
            "x entre 5 e 10\n"
          ]
        }
      ]
    },
    {
      "cell_type": "code",
      "source": [
        "i = int(input('digite um valor: '))\n",
        "for i in [1,1,2,3,5,8]:\n",
        "    print(i)\n",
        "\n",
        "\n",
        "\n"
      ],
      "metadata": {
        "colab": {
          "base_uri": "https://localhost:8080/"
        },
        "id": "h-nrM8I9RpRF",
        "outputId": "edcc57a1-688e-4d03-ad60-c7c300a2071b"
      },
      "execution_count": null,
      "outputs": [
        {
          "output_type": "stream",
          "name": "stdout",
          "text": [
            "digite um valor: 0\n",
            "1\n",
            "1\n",
            "2\n",
            "3\n",
            "5\n",
            "8\n"
          ]
        }
      ]
    },
    {
      "cell_type": "markdown",
      "source": [
        "Calculando 9! em estruturas de repetição for e while\n"
      ],
      "metadata": {
        "id": "pyzo6lCsfVTe"
      }
    },
    {
      "cell_type": "code",
      "source": [
        "# Inicialize o resultado como 1\n",
        "resultado = 1\n",
        "\n",
        "# Use um loop for para iterar de 1 até 9\n",
        "for i in range(1, 10):\n",
        "    # Multiplique o resultado pelo número atual do loop\n",
        "    resultado *= i\n",
        "\n",
        "# Imprima o resultado\n",
        "print(\"O resultado de 9! é:\", resultado)\n",
        "\n",
        "\n"
      ],
      "metadata": {
        "colab": {
          "base_uri": "https://localhost:8080/"
        },
        "id": "FI31yy5ZYex-",
        "outputId": "6d75b48b-56b9-4174-d13c-78aa81ea83a7"
      },
      "execution_count": null,
      "outputs": [
        {
          "output_type": "stream",
          "name": "stdout",
          "text": [
            "O resultado de 9! é: 362880\n"
          ]
        }
      ]
    },
    {
      "cell_type": "code",
      "source": [
        "# Inicialize o resultado como 1\n",
        "resultado = 1\n",
        "\n",
        "# Inicialize o contador como 1\n",
        "contador = 1\n",
        "\n",
        "# Use um loop while enquanto o contador for menor ou igual a 9\n",
        "while contador <= 9:\n",
        "    # Multiplique o resultado pelo contador atual\n",
        "    resultado *= contador\n",
        "\n",
        "    # Incremente o contador\n",
        "    contador += 1\n",
        "\n",
        "# Imprima o resultado\n",
        "print(\"O resultado de 9! é:\", resultado)\n",
        "\n"
      ],
      "metadata": {
        "colab": {
          "base_uri": "https://localhost:8080/"
        },
        "id": "jCAGVlNweI7-",
        "outputId": "0034b06e-3e34-49ab-c00e-e6276d490f8f"
      },
      "execution_count": null,
      "outputs": [
        {
          "output_type": "stream",
          "name": "stdout",
          "text": [
            "O resultado de 9! é: 362880\n"
          ]
        }
      ]
    },
    {
      "cell_type": "markdown",
      "source": [
        "Exercicios"
      ],
      "metadata": {
        "id": "EeaUZjdHpyoM"
      }
    },
    {
      "cell_type": "code",
      "source": [
        "nome = \"Ana\"\n",
        "idade = 25\n",
        "cidade = \"São Paulo\"\n",
        "print(\"ola! meu nome é\", nome , \"tenho\" , idade , \"e moro em\", cidade)"
      ],
      "metadata": {
        "colab": {
          "base_uri": "https://localhost:8080/"
        },
        "id": "LQ0S3J2GlDMd",
        "outputId": "9ccc7147-b51e-4dea-b2ed-2fc662abec2e"
      },
      "execution_count": null,
      "outputs": [
        {
          "output_type": "stream",
          "name": "stdout",
          "text": [
            "ola! meu nome é Ana tenho 25 e moro em São Paulo\n"
          ]
        }
      ]
    },
    {
      "cell_type": "code",
      "source": [
        "numeros = [10, 20, 30, 40, 50]\n",
        "soma = 10 + 20 + 30 + 40 + 50\n",
        "med = soma/5\n",
        "print(med)"
      ],
      "metadata": {
        "colab": {
          "base_uri": "https://localhost:8080/"
        },
        "id": "4xFBTzovn0Ky",
        "outputId": "b02ec5b1-6b6d-4dcb-afda-17740a4b4c8b"
      },
      "execution_count": null,
      "outputs": [
        {
          "output_type": "stream",
          "name": "stdout",
          "text": [
            "30.0\n"
          ]
        }
      ]
    },
    {
      "cell_type": "markdown",
      "source": [
        "\n",
        "Funções\n"
      ],
      "metadata": {
        "id": "-IfEjKCYr_8p"
      }
    },
    {
      "cell_type": "code",
      "source": [
        "def minhafuncsoma(a,b):\n",
        "  s = a + b\n",
        "  return s\n",
        "\n",
        "x = 6\n",
        "y = 12\n",
        "z = minhafuncsoma (x, y)\n"
      ],
      "metadata": {
        "id": "7pGbmp236pYk"
      },
      "execution_count": null,
      "outputs": []
    },
    {
      "cell_type": "code",
      "source": [
        "def exemplo():\n",
        "  print(A)\n",
        "\n",
        "  A = 10\n",
        "  exemplo()\n"
      ],
      "metadata": {
        "id": "PMrnPwK2hLRg"
      },
      "execution_count": null,
      "outputs": []
    },
    {
      "cell_type": "code",
      "source": [
        "def exemplo1():\n",
        "  A = 1\n",
        "  print(A)\n",
        "\n",
        "  A = 10\n",
        "  exemplo1()"
      ],
      "metadata": {
        "id": "5EzCdQhhhwJI"
      },
      "execution_count": null,
      "outputs": []
    },
    {
      "cell_type": "markdown",
      "source": [
        "Calculando fatorial de um número"
      ],
      "metadata": {
        "id": "JJb7xFOwjHIe"
      }
    },
    {
      "cell_type": "code",
      "source": [
        "def fat(n):\n",
        "        if n < 0:\n",
        "            print(\"ERRO\")\n",
        "            return\n",
        "        elif n == 0:\n",
        "            return 1\n",
        "        else:\n",
        "            return n*fat(n-1)\n",
        "n = int(input(\"Digite um número: \"))\n",
        "r = fat(n)\n",
        "print(\"n! = \" , r)"
      ],
      "metadata": {
        "colab": {
          "base_uri": "https://localhost:8080/"
        },
        "id": "tOTmDq0WjLOl",
        "outputId": "25f5e7a1-4412-47b0-ed2b-494d3c6cdabb"
      },
      "execution_count": null,
      "outputs": [
        {
          "output_type": "stream",
          "name": "stdout",
          "text": [
            "Digite um número: 10\n",
            "n! =  3628800\n"
          ]
        }
      ]
    },
    {
      "cell_type": "code",
      "source": [
        "numero1 = int(input(\"Digite o numero 1 : \"))\n",
        "numero2 = int(input(\"Digite o numero 2 : \"))\n",
        "numero3 = int(input(\"Digite o numero 3 : \"))\n",
        "\n",
        "media = (numero1 + numero2 + numero3) / 3\n",
        "\n",
        "print(\" a media é : \" + str(media))\n"
      ],
      "metadata": {
        "colab": {
          "base_uri": "https://localhost:8080/"
        },
        "id": "ivPxx7IKEF4T",
        "outputId": "bcb6a5e8-0baa-40ee-af01-2cfc47f97db6"
      },
      "execution_count": null,
      "outputs": [
        {
          "output_type": "stream",
          "name": "stdout",
          "text": [
            "Digite o numero 1 : 10\n",
            "Digite o numero 2 : 20\n",
            "Digite o numero 3 : 30\n",
            " a media é : 20.0\n"
          ]
        }
      ]
    }
  ]
}